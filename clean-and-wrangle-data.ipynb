{
 "cells": [
  {
   "cell_type": "markdown",
   "metadata": {},
   "source": [
    "# NYSE ML Project Data Cleaning and Wrangling\n",
    "In this notebook I will clean and wrangle the data from the data files I will be using for this project. As an output there will be a one file to use for the machine learning model analysis."
   ]
  },
  {
   "cell_type": "code",
   "execution_count": 1,
   "metadata": {},
   "outputs": [],
   "source": [
    "import pandas as pd"
   ]
  },
  {
   "cell_type": "code",
   "execution_count": 2,
   "metadata": {},
   "outputs": [],
   "source": [
    "close_2018_df = pd.read_csv(\"./data/2018-close-price.tsv\", delimiter=\"\\t\")\n",
    "price_df = pd.read_csv(\"./data/prices-split-adjusted.csv\")\n",
    "fundamentals_df = pd.read_csv(\"./data/fundamentals.csv\")\n",
    "securities_df = pd.read_csv(\"./data/securities.csv\")"
   ]
  },
  {
   "cell_type": "markdown",
   "metadata": {},
   "source": [
    "### Clean 2018-close-price"
   ]
  },
  {
   "cell_type": "code",
   "execution_count": 3,
   "metadata": {},
   "outputs": [
    {
     "data": {
      "text/plain": [
       "(999, 2)"
      ]
     },
     "execution_count": 3,
     "metadata": {},
     "output_type": "execute_result"
    }
   ],
   "source": [
    "close_2018_df.shape"
   ]
  },
  {
   "cell_type": "code",
   "execution_count": 4,
   "metadata": {},
   "outputs": [
    {
     "name": "stdout",
     "output_type": "stream",
     "text": [
      "<class 'pandas.core.frame.DataFrame'>\n",
      "RangeIndex: 999 entries, 0 to 998\n",
      "Data columns (total 2 columns):\n",
      " #   Column         Non-Null Count  Dtype  \n",
      "---  ------         --------------  -----  \n",
      " 0   Ticker Symbol  501 non-null    object \n",
      " 1   2018 Close     436 non-null    float64\n",
      "dtypes: float64(1), object(1)\n",
      "memory usage: 15.7+ KB\n"
     ]
    }
   ],
   "source": [
    "close_2018_df.info()"
   ]
  },
  {
   "cell_type": "code",
   "execution_count": 5,
   "metadata": {},
   "outputs": [
    {
     "data": {
      "text/plain": [
       "(501, 2)"
      ]
     },
     "execution_count": 5,
     "metadata": {},
     "output_type": "execute_result"
    }
   ],
   "source": [
    "# Remove empty rows\n",
    "close_2018_df = close_2018_df[close_2018_df['Ticker Symbol'].notna()]\n",
    "close_2018_df.shape"
   ]
  },
  {
   "cell_type": "code",
   "execution_count": 6,
   "metadata": {},
   "outputs": [
    {
     "data": {
      "text/plain": [
       "(436, 2)"
      ]
     },
     "execution_count": 6,
     "metadata": {},
     "output_type": "execute_result"
    }
   ],
   "source": [
    "# Remove any tickers without a closing price in 2018\n",
    "close_2018_df = close_2018_df[close_2018_df['2018 Close'].notna()]\n",
    "close_2018_df.shape"
   ]
  },
  {
   "cell_type": "code",
   "execution_count": 7,
   "metadata": {},
   "outputs": [
    {
     "data": {
      "text/plain": [
       "436"
      ]
     },
     "execution_count": 7,
     "metadata": {},
     "output_type": "execute_result"
    }
   ],
   "source": [
    "# Check if there are any duplicate tickers\n",
    "len(close_2018_df['Ticker Symbol'].unique())"
   ]
  },
  {
   "cell_type": "markdown",
   "metadata": {},
   "source": [
    "### Clean price-split-adjusted"
   ]
  },
  {
   "cell_type": "code",
   "execution_count": 8,
   "metadata": {},
   "outputs": [
    {
     "name": "stdout",
     "output_type": "stream",
     "text": [
      "<class 'pandas.core.frame.DataFrame'>\n",
      "RangeIndex: 851264 entries, 0 to 851263\n",
      "Data columns (total 7 columns):\n",
      " #   Column  Non-Null Count   Dtype  \n",
      "---  ------  --------------   -----  \n",
      " 0   date    851264 non-null  object \n",
      " 1   symbol  851264 non-null  object \n",
      " 2   open    851264 non-null  float64\n",
      " 3   close   851264 non-null  float64\n",
      " 4   low     851264 non-null  float64\n",
      " 5   high    851264 non-null  float64\n",
      " 6   volume  851264 non-null  int64  \n",
      "dtypes: float64(4), int64(1), object(2)\n",
      "memory usage: 45.5+ MB\n"
     ]
    }
   ],
   "source": [
    "price_df.info()"
   ]
  },
  {
   "cell_type": "code",
   "execution_count": 10,
   "metadata": {},
   "outputs": [
    {
     "data": {
      "text/html": [
       "<div>\n",
       "<style scoped>\n",
       "    .dataframe tbody tr th:only-of-type {\n",
       "        vertical-align: middle;\n",
       "    }\n",
       "\n",
       "    .dataframe tbody tr th {\n",
       "        vertical-align: top;\n",
       "    }\n",
       "\n",
       "    .dataframe thead th {\n",
       "        text-align: right;\n",
       "    }\n",
       "</style>\n",
       "<table border=\"1\" class=\"dataframe\">\n",
       "  <thead>\n",
       "    <tr style=\"text-align: right;\">\n",
       "      <th></th>\n",
       "      <th>count</th>\n",
       "      <th>mean</th>\n",
       "      <th>std</th>\n",
       "      <th>min</th>\n",
       "      <th>25%</th>\n",
       "      <th>50%</th>\n",
       "      <th>75%</th>\n",
       "      <th>max</th>\n",
       "    </tr>\n",
       "  </thead>\n",
       "  <tbody>\n",
       "    <tr>\n",
       "      <th>open</th>\n",
       "      <td>851264.0</td>\n",
       "      <td>6.499362e+01</td>\n",
       "      <td>7.520389e+01</td>\n",
       "      <td>1.66</td>\n",
       "      <td>3.127000e+01</td>\n",
       "      <td>4.846000e+01</td>\n",
       "      <td>7.512000e+01</td>\n",
       "      <td>1.584440e+03</td>\n",
       "    </tr>\n",
       "    <tr>\n",
       "      <th>close</th>\n",
       "      <td>851264.0</td>\n",
       "      <td>6.501191e+01</td>\n",
       "      <td>7.520122e+01</td>\n",
       "      <td>1.59</td>\n",
       "      <td>3.129278e+01</td>\n",
       "      <td>4.848000e+01</td>\n",
       "      <td>7.514000e+01</td>\n",
       "      <td>1.578130e+03</td>\n",
       "    </tr>\n",
       "    <tr>\n",
       "      <th>low</th>\n",
       "      <td>851264.0</td>\n",
       "      <td>6.433654e+01</td>\n",
       "      <td>7.445952e+01</td>\n",
       "      <td>1.50</td>\n",
       "      <td>3.094000e+01</td>\n",
       "      <td>4.797000e+01</td>\n",
       "      <td>7.440000e+01</td>\n",
       "      <td>1.549940e+03</td>\n",
       "    </tr>\n",
       "    <tr>\n",
       "      <th>high</th>\n",
       "      <td>851264.0</td>\n",
       "      <td>6.563975e+01</td>\n",
       "      <td>7.590686e+01</td>\n",
       "      <td>1.81</td>\n",
       "      <td>3.162000e+01</td>\n",
       "      <td>4.896000e+01</td>\n",
       "      <td>7.585000e+01</td>\n",
       "      <td>1.600930e+03</td>\n",
       "    </tr>\n",
       "    <tr>\n",
       "      <th>volume</th>\n",
       "      <td>851264.0</td>\n",
       "      <td>5.415113e+06</td>\n",
       "      <td>1.249468e+07</td>\n",
       "      <td>0.00</td>\n",
       "      <td>1.221500e+06</td>\n",
       "      <td>2.476250e+06</td>\n",
       "      <td>5.222500e+06</td>\n",
       "      <td>8.596434e+08</td>\n",
       "    </tr>\n",
       "  </tbody>\n",
       "</table>\n",
       "</div>"
      ],
      "text/plain": [
       "           count          mean           std   min           25%  \\\n",
       "open    851264.0  6.499362e+01  7.520389e+01  1.66  3.127000e+01   \n",
       "close   851264.0  6.501191e+01  7.520122e+01  1.59  3.129278e+01   \n",
       "low     851264.0  6.433654e+01  7.445952e+01  1.50  3.094000e+01   \n",
       "high    851264.0  6.563975e+01  7.590686e+01  1.81  3.162000e+01   \n",
       "volume  851264.0  5.415113e+06  1.249468e+07  0.00  1.221500e+06   \n",
       "\n",
       "                 50%           75%           max  \n",
       "open    4.846000e+01  7.512000e+01  1.584440e+03  \n",
       "close   4.848000e+01  7.514000e+01  1.578130e+03  \n",
       "low     4.797000e+01  7.440000e+01  1.549940e+03  \n",
       "high    4.896000e+01  7.585000e+01  1.600930e+03  \n",
       "volume  2.476250e+06  5.222500e+06  8.596434e+08  "
      ]
     },
     "execution_count": 10,
     "metadata": {},
     "output_type": "execute_result"
    }
   ],
   "source": [
    "price_df.describe().T"
   ]
  },
  {
   "cell_type": "code",
   "execution_count": 11,
   "metadata": {},
   "outputs": [
    {
     "data": {
      "text/html": [
       "<div>\n",
       "<style scoped>\n",
       "    .dataframe tbody tr th:only-of-type {\n",
       "        vertical-align: middle;\n",
       "    }\n",
       "\n",
       "    .dataframe tbody tr th {\n",
       "        vertical-align: top;\n",
       "    }\n",
       "\n",
       "    .dataframe thead th {\n",
       "        text-align: right;\n",
       "    }\n",
       "</style>\n",
       "<table border=\"1\" class=\"dataframe\">\n",
       "  <thead>\n",
       "    <tr style=\"text-align: right;\">\n",
       "      <th></th>\n",
       "      <th>date</th>\n",
       "      <th>symbol</th>\n",
       "      <th>open</th>\n",
       "      <th>close</th>\n",
       "      <th>low</th>\n",
       "      <th>high</th>\n",
       "      <th>volume</th>\n",
       "    </tr>\n",
       "  </thead>\n",
       "  <tbody>\n",
       "    <tr>\n",
       "      <th>0</th>\n",
       "      <td>1/5/2016</td>\n",
       "      <td>WLTW</td>\n",
       "      <td>123.430000</td>\n",
       "      <td>125.839996</td>\n",
       "      <td>122.309998</td>\n",
       "      <td>126.250000</td>\n",
       "      <td>2163600</td>\n",
       "    </tr>\n",
       "    <tr>\n",
       "      <th>1</th>\n",
       "      <td>1/6/2016</td>\n",
       "      <td>WLTW</td>\n",
       "      <td>125.239998</td>\n",
       "      <td>119.980003</td>\n",
       "      <td>119.940002</td>\n",
       "      <td>125.540001</td>\n",
       "      <td>2386400</td>\n",
       "    </tr>\n",
       "    <tr>\n",
       "      <th>2</th>\n",
       "      <td>1/7/2016</td>\n",
       "      <td>WLTW</td>\n",
       "      <td>116.379997</td>\n",
       "      <td>114.949997</td>\n",
       "      <td>114.930000</td>\n",
       "      <td>119.739998</td>\n",
       "      <td>2489500</td>\n",
       "    </tr>\n",
       "    <tr>\n",
       "      <th>3</th>\n",
       "      <td>1/8/2016</td>\n",
       "      <td>WLTW</td>\n",
       "      <td>115.480003</td>\n",
       "      <td>116.620003</td>\n",
       "      <td>113.500000</td>\n",
       "      <td>117.440002</td>\n",
       "      <td>2006300</td>\n",
       "    </tr>\n",
       "    <tr>\n",
       "      <th>4</th>\n",
       "      <td>1/11/2016</td>\n",
       "      <td>WLTW</td>\n",
       "      <td>117.010002</td>\n",
       "      <td>114.970001</td>\n",
       "      <td>114.089996</td>\n",
       "      <td>117.330002</td>\n",
       "      <td>1408600</td>\n",
       "    </tr>\n",
       "  </tbody>\n",
       "</table>\n",
       "</div>"
      ],
      "text/plain": [
       "        date symbol        open       close         low        high   volume\n",
       "0   1/5/2016   WLTW  123.430000  125.839996  122.309998  126.250000  2163600\n",
       "1   1/6/2016   WLTW  125.239998  119.980003  119.940002  125.540001  2386400\n",
       "2   1/7/2016   WLTW  116.379997  114.949997  114.930000  119.739998  2489500\n",
       "3   1/8/2016   WLTW  115.480003  116.620003  113.500000  117.440002  2006300\n",
       "4  1/11/2016   WLTW  117.010002  114.970001  114.089996  117.330002  1408600"
      ]
     },
     "execution_count": 11,
     "metadata": {},
     "output_type": "execute_result"
    }
   ],
   "source": [
    "price_df.head()"
   ]
  },
  {
   "cell_type": "code",
   "execution_count": 12,
   "metadata": {},
   "outputs": [
    {
     "name": "stdout",
     "output_type": "stream",
     "text": [
      "<class 'pandas.core.frame.DataFrame'>\n",
      "RangeIndex: 851264 entries, 0 to 851263\n",
      "Data columns (total 7 columns):\n",
      " #   Column  Non-Null Count   Dtype         \n",
      "---  ------  --------------   -----         \n",
      " 0   date    851264 non-null  datetime64[ns]\n",
      " 1   symbol  851264 non-null  object        \n",
      " 2   open    851264 non-null  float64       \n",
      " 3   close   851264 non-null  float64       \n",
      " 4   low     851264 non-null  float64       \n",
      " 5   high    851264 non-null  float64       \n",
      " 6   volume  851264 non-null  int64         \n",
      "dtypes: datetime64[ns](1), float64(4), int64(1), object(1)\n",
      "memory usage: 45.5+ MB\n"
     ]
    }
   ],
   "source": [
    "# Convert date column to datetime.\n",
    "price_df['date'] = pd.to_datetime(price_df['date'], format=\"%m/%d/%Y\")\n",
    "price_df.info()"
   ]
  },
  {
   "cell_type": "code",
   "execution_count": 15,
   "metadata": {},
   "outputs": [
    {
     "data": {
      "text/html": [
       "<div>\n",
       "<style scoped>\n",
       "    .dataframe tbody tr th:only-of-type {\n",
       "        vertical-align: middle;\n",
       "    }\n",
       "\n",
       "    .dataframe tbody tr th {\n",
       "        vertical-align: top;\n",
       "    }\n",
       "\n",
       "    .dataframe thead th {\n",
       "        text-align: right;\n",
       "    }\n",
       "</style>\n",
       "<table border=\"1\" class=\"dataframe\">\n",
       "  <thead>\n",
       "    <tr style=\"text-align: right;\">\n",
       "      <th></th>\n",
       "      <th>count</th>\n",
       "      <th>mean</th>\n",
       "      <th>min</th>\n",
       "      <th>25%</th>\n",
       "      <th>50%</th>\n",
       "      <th>75%</th>\n",
       "      <th>max</th>\n",
       "      <th>std</th>\n",
       "    </tr>\n",
       "  </thead>\n",
       "  <tbody>\n",
       "    <tr>\n",
       "      <th>date</th>\n",
       "      <td>851264</td>\n",
       "      <td>2013-07-21 02:56:29.294037760</td>\n",
       "      <td>2010-01-04 00:00:00</td>\n",
       "      <td>2011-10-19 00:00:00</td>\n",
       "      <td>2013-08-02 00:00:00</td>\n",
       "      <td>2015-04-24 00:00:00</td>\n",
       "      <td>2016-12-30 00:00:00</td>\n",
       "      <td>NaN</td>\n",
       "    </tr>\n",
       "    <tr>\n",
       "      <th>open</th>\n",
       "      <td>851264.0</td>\n",
       "      <td>64.993618</td>\n",
       "      <td>1.66</td>\n",
       "      <td>31.27</td>\n",
       "      <td>48.459999</td>\n",
       "      <td>75.120003</td>\n",
       "      <td>1584.439941</td>\n",
       "      <td>75.203893</td>\n",
       "    </tr>\n",
       "    <tr>\n",
       "      <th>close</th>\n",
       "      <td>851264.0</td>\n",
       "      <td>65.011913</td>\n",
       "      <td>1.59</td>\n",
       "      <td>31.292776</td>\n",
       "      <td>48.48</td>\n",
       "      <td>75.139999</td>\n",
       "      <td>1578.130005</td>\n",
       "      <td>75.201216</td>\n",
       "    </tr>\n",
       "    <tr>\n",
       "      <th>low</th>\n",
       "      <td>851264.0</td>\n",
       "      <td>64.336541</td>\n",
       "      <td>1.5</td>\n",
       "      <td>30.940001</td>\n",
       "      <td>47.970001</td>\n",
       "      <td>74.400002</td>\n",
       "      <td>1549.939941</td>\n",
       "      <td>74.459518</td>\n",
       "    </tr>\n",
       "    <tr>\n",
       "      <th>high</th>\n",
       "      <td>851264.0</td>\n",
       "      <td>65.639748</td>\n",
       "      <td>1.81</td>\n",
       "      <td>31.620001</td>\n",
       "      <td>48.959999</td>\n",
       "      <td>75.849998</td>\n",
       "      <td>1600.930054</td>\n",
       "      <td>75.906861</td>\n",
       "    </tr>\n",
       "    <tr>\n",
       "      <th>volume</th>\n",
       "      <td>851264.0</td>\n",
       "      <td>5415112.640027</td>\n",
       "      <td>0.0</td>\n",
       "      <td>1221500.0</td>\n",
       "      <td>2476250.0</td>\n",
       "      <td>5222500.0</td>\n",
       "      <td>859643400.0</td>\n",
       "      <td>12494681.433084</td>\n",
       "    </tr>\n",
       "  </tbody>\n",
       "</table>\n",
       "</div>"
      ],
      "text/plain": [
       "           count                           mean                  min  \\\n",
       "date      851264  2013-07-21 02:56:29.294037760  2010-01-04 00:00:00   \n",
       "open    851264.0                      64.993618                 1.66   \n",
       "close   851264.0                      65.011913                 1.59   \n",
       "low     851264.0                      64.336541                  1.5   \n",
       "high    851264.0                      65.639748                 1.81   \n",
       "volume  851264.0                 5415112.640027                  0.0   \n",
       "\n",
       "                        25%                  50%                  75%  \\\n",
       "date    2011-10-19 00:00:00  2013-08-02 00:00:00  2015-04-24 00:00:00   \n",
       "open                  31.27            48.459999            75.120003   \n",
       "close             31.292776                48.48            75.139999   \n",
       "low               30.940001            47.970001            74.400002   \n",
       "high              31.620001            48.959999            75.849998   \n",
       "volume            1221500.0            2476250.0            5222500.0   \n",
       "\n",
       "                        max              std  \n",
       "date    2016-12-30 00:00:00              NaN  \n",
       "open            1584.439941        75.203893  \n",
       "close           1578.130005        75.201216  \n",
       "low             1549.939941        74.459518  \n",
       "high            1600.930054        75.906861  \n",
       "volume          859643400.0  12494681.433084  "
      ]
     },
     "execution_count": 15,
     "metadata": {},
     "output_type": "execute_result"
    }
   ],
   "source": [
    "price_df.describe().T"
   ]
  },
  {
   "cell_type": "code",
   "execution_count": 16,
   "metadata": {},
   "outputs": [
    {
     "data": {
      "text/html": [
       "<div>\n",
       "<style scoped>\n",
       "    .dataframe tbody tr th:only-of-type {\n",
       "        vertical-align: middle;\n",
       "    }\n",
       "\n",
       "    .dataframe tbody tr th {\n",
       "        vertical-align: top;\n",
       "    }\n",
       "\n",
       "    .dataframe thead th {\n",
       "        text-align: right;\n",
       "    }\n",
       "</style>\n",
       "<table border=\"1\" class=\"dataframe\">\n",
       "  <thead>\n",
       "    <tr style=\"text-align: right;\">\n",
       "      <th></th>\n",
       "      <th>count</th>\n",
       "      <th>mean</th>\n",
       "      <th>min</th>\n",
       "      <th>25%</th>\n",
       "      <th>50%</th>\n",
       "      <th>75%</th>\n",
       "      <th>max</th>\n",
       "      <th>std</th>\n",
       "    </tr>\n",
       "  </thead>\n",
       "  <tbody>\n",
       "    <tr>\n",
       "      <th>date</th>\n",
       "      <td>497186</td>\n",
       "      <td>2015-01-06 05:07:56.253152512</td>\n",
       "      <td>2013-01-02 00:00:00</td>\n",
       "      <td>2014-01-07 00:00:00</td>\n",
       "      <td>2015-01-09 00:00:00</td>\n",
       "      <td>2016-01-07 00:00:00</td>\n",
       "      <td>2016-12-30 00:00:00</td>\n",
       "      <td>NaN</td>\n",
       "    </tr>\n",
       "    <tr>\n",
       "      <th>open</th>\n",
       "      <td>497186.0</td>\n",
       "      <td>77.618982</td>\n",
       "      <td>1.66</td>\n",
       "      <td>38.09</td>\n",
       "      <td>58.48</td>\n",
       "      <td>87.639999</td>\n",
       "      <td>1584.439941</td>\n",
       "      <td>88.696438</td>\n",
       "    </tr>\n",
       "    <tr>\n",
       "      <th>close</th>\n",
       "      <td>497186.0</td>\n",
       "      <td>77.638583</td>\n",
       "      <td>1.59</td>\n",
       "      <td>38.099998</td>\n",
       "      <td>58.509998</td>\n",
       "      <td>87.669998</td>\n",
       "      <td>1578.130005</td>\n",
       "      <td>88.68694</td>\n",
       "    </tr>\n",
       "    <tr>\n",
       "      <th>low</th>\n",
       "      <td>497186.0</td>\n",
       "      <td>76.873468</td>\n",
       "      <td>1.5</td>\n",
       "      <td>37.709999</td>\n",
       "      <td>57.939999</td>\n",
       "      <td>86.860001</td>\n",
       "      <td>1549.939941</td>\n",
       "      <td>87.825628</td>\n",
       "    </tr>\n",
       "    <tr>\n",
       "      <th>high</th>\n",
       "      <td>497186.0</td>\n",
       "      <td>78.354314</td>\n",
       "      <td>1.81</td>\n",
       "      <td>38.48</td>\n",
       "      <td>59.029999</td>\n",
       "      <td>88.43</td>\n",
       "      <td>1600.930054</td>\n",
       "      <td>89.509429</td>\n",
       "    </tr>\n",
       "    <tr>\n",
       "      <th>volume</th>\n",
       "      <td>497186.0</td>\n",
       "      <td>4576383.987884</td>\n",
       "      <td>0.0</td>\n",
       "      <td>1134000.0</td>\n",
       "      <td>2223500.0</td>\n",
       "      <td>4581900.0</td>\n",
       "      <td>616620500.0</td>\n",
       "      <td>9137975.550856</td>\n",
       "    </tr>\n",
       "  </tbody>\n",
       "</table>\n",
       "</div>"
      ],
      "text/plain": [
       "           count                           mean                  min  \\\n",
       "date      497186  2015-01-06 05:07:56.253152512  2013-01-02 00:00:00   \n",
       "open    497186.0                      77.618982                 1.66   \n",
       "close   497186.0                      77.638583                 1.59   \n",
       "low     497186.0                      76.873468                  1.5   \n",
       "high    497186.0                      78.354314                 1.81   \n",
       "volume  497186.0                 4576383.987884                  0.0   \n",
       "\n",
       "                        25%                  50%                  75%  \\\n",
       "date    2014-01-07 00:00:00  2015-01-09 00:00:00  2016-01-07 00:00:00   \n",
       "open                  38.09                58.48            87.639999   \n",
       "close             38.099998            58.509998            87.669998   \n",
       "low               37.709999            57.939999            86.860001   \n",
       "high                  38.48            59.029999                88.43   \n",
       "volume            1134000.0            2223500.0            4581900.0   \n",
       "\n",
       "                        max             std  \n",
       "date    2016-12-30 00:00:00             NaN  \n",
       "open            1584.439941       88.696438  \n",
       "close           1578.130005        88.68694  \n",
       "low             1549.939941       87.825628  \n",
       "high            1600.930054       89.509429  \n",
       "volume          616620500.0  9137975.550856  "
      ]
     },
     "execution_count": 16,
     "metadata": {},
     "output_type": "execute_result"
    }
   ],
   "source": [
    "# Drop all dates before 01/01/2013.\n",
    "price_df = price_df[price_df['date'] > '12/31/2012']\n",
    "price_df.describe().T"
   ]
  },
  {
   "cell_type": "code",
   "execution_count": 18,
   "metadata": {},
   "outputs": [
    {
     "data": {
      "text/plain": [
       "(433302, 7)"
      ]
     },
     "execution_count": 18,
     "metadata": {},
     "output_type": "execute_result"
    }
   ],
   "source": [
    "# Remove all stocks that are not in 2018 data.\n",
    "tickers_2018 = close_2018_df['Ticker Symbol']\n",
    "price_df = price_df[price_df['symbol'].isin(tickers_2018)]\n",
    "price_df.shape"
   ]
  },
  {
   "cell_type": "markdown",
   "metadata": {},
   "source": [
    "### Clean fundamentals"
   ]
  },
  {
   "cell_type": "code",
   "execution_count": null,
   "metadata": {},
   "outputs": [],
   "source": []
  }
 ],
 "metadata": {
  "kernelspec": {
   "display_name": "Capstone",
   "language": "python",
   "name": "python3"
  },
  "language_info": {
   "codemirror_mode": {
    "name": "ipython",
    "version": 3
   },
   "file_extension": ".py",
   "mimetype": "text/x-python",
   "name": "python",
   "nbconvert_exporter": "python",
   "pygments_lexer": "ipython3",
   "version": "3.11.5"
  }
 },
 "nbformat": 4,
 "nbformat_minor": 2
}
