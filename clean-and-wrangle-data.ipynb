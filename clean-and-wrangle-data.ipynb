{
 "cells": [
  {
   "cell_type": "markdown",
   "metadata": {},
   "source": [
    "# NYSE ML Project Data Cleaning and Wrangling\n",
    "In this notebook I will clean and wrangle the data from the data files I will be using for this project. As an output there will be a one file to use for the machine learning model analysis."
   ]
  },
  {
   "cell_type": "code",
   "execution_count": null,
   "metadata": {},
   "outputs": [],
   "source": [
    "import pandas as pd"
   ]
  },
  {
   "cell_type": "code",
   "execution_count": null,
   "metadata": {},
   "outputs": [],
   "source": [
    "close_2018_df = pd.read_csv(\"./data/2018-close-price.tsv\", delimiter=\"\\t\")\n",
    "price_df = pd.read_csv(\"./data/prices-split-adjusted.csv\")\n",
    "fundamentals_df = pd.read_csv(\"./data/fundamentals.csv\")\n",
    "securities_df = pd.read_csv(\"./data/securities.csv\")"
   ]
  },
  {
   "cell_type": "markdown",
   "metadata": {},
   "source": [
    "### Remove NaNs from 2018-close-price"
   ]
  },
  {
   "cell_type": "code",
   "execution_count": null,
   "metadata": {},
   "outputs": [],
   "source": [
    "close_2018_df.shape"
   ]
  },
  {
   "cell_type": "code",
   "execution_count": null,
   "metadata": {},
   "outputs": [],
   "source": [
    "close_2018_df.info()"
   ]
  },
  {
   "cell_type": "code",
   "execution_count": null,
   "metadata": {},
   "outputs": [],
   "source": [
    "# Remove empty rows\n",
    "close_2018_df = close_2018_df[close_2018_df['Ticker Symbol'].notna()]\n",
    "close_2018_df.shape"
   ]
  },
  {
   "cell_type": "code",
   "execution_count": null,
   "metadata": {},
   "outputs": [],
   "source": [
    "# Remove any tickers without a closing price in 2018\n",
    "close_2018_df = close_2018_df[close_2018_df['2018 Close'].notna()]\n",
    "close_2018_df.shape"
   ]
  },
  {
   "cell_type": "code",
   "execution_count": null,
   "metadata": {},
   "outputs": [],
   "source": [
    "# Check if there are any duplicate tickers\n",
    "len(close_2018_df['Ticker Symbol'].unique())"
   ]
  },
  {
   "cell_type": "code",
   "execution_count": null,
   "metadata": {},
   "outputs": [],
   "source": []
  }
 ],
 "metadata": {
  "kernelspec": {
   "display_name": "Capstone",
   "language": "python",
   "name": "python3"
  },
  "language_info": {
   "codemirror_mode": {
    "name": "ipython",
    "version": 3
   },
   "file_extension": ".py",
   "mimetype": "text/x-python",
   "name": "python",
   "nbconvert_exporter": "python",
   "pygments_lexer": "ipython3",
   "version": "3.11.5"
  }
 },
 "nbformat": 4,
 "nbformat_minor": 2
}
