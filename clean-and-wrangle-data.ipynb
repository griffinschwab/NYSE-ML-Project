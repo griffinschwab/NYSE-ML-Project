{
 "cells": [
  {
   "cell_type": "markdown",
   "metadata": {},
   "source": [
    "# NYSE ML Project Data Cleaning and Wrangling\n",
    "In this notebook I will clean and wrangle the data from the three data files I will be using for this project. As an output there will be a one file to use for the machine learning model analysis."
   ]
  }
 ],
 "metadata": {
  "language_info": {
   "name": "python"
  }
 },
 "nbformat": 4,
 "nbformat_minor": 2
}
