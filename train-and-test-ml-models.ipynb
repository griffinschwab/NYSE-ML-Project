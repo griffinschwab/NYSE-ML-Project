{
 "cells": [
  {
   "cell_type": "markdown",
   "metadata": {},
   "source": [
    "# NYSE ML Project Machine Learning Analysis\n",
    "In this notebook I will training and testing three different machine learning models with and without PCA."
   ]
  },
  {
   "cell_type": "code",
   "execution_count": 1,
   "metadata": {},
   "outputs": [],
   "source": [
    "import pandas as pd\n",
    "import numpy as np\n",
    "import matplotlib.pyplot as plt\n",
    "import seaborn as sns\n",
    "from IPython.display import display\n",
    "\n",
    "%matplotlib inline"
   ]
  },
  {
   "cell_type": "code",
   "execution_count": 2,
   "metadata": {},
   "outputs": [],
   "source": [
    "# Read in the data\n",
    "cleaned_df = pd.read_csv('./data/cleaned/final-model.csv')"
   ]
  },
  {
   "cell_type": "markdown",
   "metadata": {},
   "source": [
    "## Split Into Train and Test"
   ]
  },
  {
   "cell_type": "code",
   "execution_count": 3,
   "metadata": {},
   "outputs": [
    {
     "name": "stdout",
     "output_type": "stream",
     "text": [
      "<class 'pandas.core.frame.DataFrame'>\n",
      "<class 'pandas.core.frame.DataFrame'>\n",
      "<class 'pandas.core.series.Series'>\n",
      "<class 'pandas.core.series.Series'>\n"
     ]
    }
   ],
   "source": [
    "from sklearn.model_selection import train_test_split\n",
    "\n",
    "top_performing_raw = cleaned_df['75th Percentile']\n",
    "features_raw = cleaned_df.drop(['75th Percentile'], axis=1)\n",
    "symbols_raw = features_raw['Symbol']\n",
    "features_raw = features_raw.drop(['Symbol'], axis=1)\n",
    "\n",
    "x_train, x_test, y_train, y_test = train_test_split(features_raw,\n",
    "                                                    top_performing_raw,\n",
    "                                                    test_size=0.2,\n",
    "                                                    random_state=42)\n",
    "\n",
    "print(type(x_train))\n",
    "print(type(x_test))\n",
    "print(type(y_train))\n",
    "print(type(y_test))"
   ]
  },
  {
   "cell_type": "markdown",
   "metadata": {},
   "source": [
    "### Standardize Values"
   ]
  },
  {
   "cell_type": "code",
   "execution_count": 4,
   "metadata": {},
   "outputs": [],
   "source": [
    "from sklearn.preprocessing import MinMaxScaler\n",
    "\n",
    "scalar = MinMaxScaler()\n",
    "x_train = scalar.fit_transform(x_train)\n",
    "x_test = scalar.transform(x_test)"
   ]
  },
  {
   "cell_type": "code",
   "execution_count": 5,
   "metadata": {},
   "outputs": [
    {
     "data": {
      "text/plain": [
       "['./outputs/models/scalar.joblib']"
      ]
     },
     "execution_count": 5,
     "metadata": {},
     "output_type": "execute_result"
    }
   ],
   "source": [
    "# Export scalar\n",
    "from joblib import dump, load\n",
    "dump(scalar, './outputs/models/scalar.joblib')"
   ]
  },
  {
   "cell_type": "markdown",
   "metadata": {},
   "source": [
    "### Naive Predictor Performance"
   ]
  },
  {
   "cell_type": "code",
   "execution_count": 6,
   "metadata": {},
   "outputs": [
    {
     "data": {
      "text/html": [
       "<div>\n",
       "<style scoped>\n",
       "    .dataframe tbody tr th:only-of-type {\n",
       "        vertical-align: middle;\n",
       "    }\n",
       "\n",
       "    .dataframe tbody tr th {\n",
       "        vertical-align: top;\n",
       "    }\n",
       "\n",
       "    .dataframe thead th {\n",
       "        text-align: right;\n",
       "    }\n",
       "</style>\n",
       "<table border=\"1\" class=\"dataframe\">\n",
       "  <thead>\n",
       "    <tr style=\"text-align: right;\">\n",
       "      <th></th>\n",
       "      <th>Model</th>\n",
       "      <th>Time to Train</th>\n",
       "      <th>Time to Predict</th>\n",
       "      <th>F-score</th>\n",
       "      <th>Precision</th>\n",
       "      <th>Recall</th>\n",
       "      <th>Accuracy</th>\n",
       "    </tr>\n",
       "  </thead>\n",
       "  <tbody>\n",
       "    <tr>\n",
       "      <th>0</th>\n",
       "      <td>Naive Predictor</td>\n",
       "      <td>0</td>\n",
       "      <td>0</td>\n",
       "      <td>0.296252</td>\n",
       "      <td>0.251928</td>\n",
       "      <td>1.0</td>\n",
       "      <td>0.251928</td>\n",
       "    </tr>\n",
       "  </tbody>\n",
       "</table>\n",
       "</div>"
      ],
      "text/plain": [
       "             Model  Time to Train  Time to Predict   F-score  Precision  \\\n",
       "0  Naive Predictor              0                0  0.296252   0.251928   \n",
       "\n",
       "   Recall  Accuracy  \n",
       "0     1.0  0.251928  "
      ]
     },
     "execution_count": 6,
     "metadata": {},
     "output_type": "execute_result"
    }
   ],
   "source": [
    "true_positives = np.sum(top_performing_raw)\n",
    "false_positives = top_performing_raw.count() - true_positives\n",
    "true_negatives = 0\n",
    "false_negatives = 0\n",
    "\n",
    "accuracy = true_positives / (true_positives + false_positives)\n",
    "recall = true_positives / (true_positives + false_negatives)\n",
    "precision = true_positives / (true_positives + false_positives)\n",
    "fscore = (1 + pow(0.5,2)) * ((precision * recall) / ((pow(0.5,2) * precision) + recall))\n",
    "\n",
    "# Setup time tracking\n",
    "time_df = pd.DataFrame(columns=['Model', 'Time to Train', 'Time to Predict', 'F-score', 'Precision', 'Recall', 'Accuracy'])\n",
    "new_row = {\n",
    "    'Model': 'Naive Predictor',\n",
    "    'Time to Train': 0,\n",
    "    'Time to Predict': 0,\n",
    "    'F-score': fscore,\n",
    "    'Precision': precision,\n",
    "    'Recall': recall,\n",
    "    'Accuracy': accuracy\n",
    "}\n",
    "\n",
    "time_df.loc[len(time_df.index)] = new_row\n",
    "time_df.head(10)"
   ]
  },
  {
   "cell_type": "markdown",
   "metadata": {},
   "source": [
    "### Train Models"
   ]
  },
  {
   "cell_type": "code",
   "execution_count": 7,
   "metadata": {},
   "outputs": [],
   "source": [
    "from sklearn.metrics import fbeta_score, accuracy_score, precision_score, recall_score\n",
    "from sklearn.model_selection import GridSearchCV\n",
    "from pandas.core.frame import DataFrame\n",
    "from pandas.core.series import Series\n",
    "import timeit\n",
    "\n",
    "# Function to train predict, and populate scores in the results dictionary\n",
    "def train_predict(model:str,\n",
    "                  grid_obj:GridSearchCV ,\n",
    "                  x_train: DataFrame,\n",
    "                  y_train: DataFrame,\n",
    "                  x_test: Series,\n",
    "                  y_test: Series) -> dict: \n",
    "    '''\n",
    "    inputs:\n",
    "        - model: the name of the model\n",
    "        - grid_obj: the grid search object to train and predict\n",
    "        - x_train: features training set\n",
    "        - y_train: income training set\n",
    "        - x_test: features testing set\n",
    "        - y_test: income testing set\n",
    "    '''\n",
    "    \n",
    "    results = {}\n",
    "    results['Model'] = model\n",
    "    \n",
    "    start = timeit.default_timer()\n",
    "    grid_fit = grid_obj.fit(x_train, y_train)\n",
    "    end = timeit.default_timer()\n",
    "    learner = grid_fit.best_estimator_\n",
    "    \n",
    "    results['Time to Train'] = end - start\n",
    "        \n",
    "    start = timeit.default_timer()\n",
    "    predictions_test = learner.predict(x_test)\n",
    "    end = timeit.default_timer()\n",
    "    \n",
    "    results['Time to Predict'] = end - start\n",
    "            \n",
    "    results['F-score'] = fbeta_score(y_test, predictions_test, beta=0.5, average=None)[0]\n",
    "        \n",
    "    results['Precision'] = precision_score(y_test, predictions_test, average=None)[0]\n",
    "    \n",
    "    results['Recall'] = recall_score(y_test, predictions_test, average=None)[0]\n",
    "        \n",
    "    results['Accuracy'] = accuracy_score(y_test, predictions_test)\n",
    "       \n",
    "    return results, learner\n"
   ]
  },
  {
   "cell_type": "markdown",
   "metadata": {},
   "source": [
    "#### Without PCA\n",
    "##### SVC"
   ]
  },
  {
   "cell_type": "code",
   "execution_count": 8,
   "metadata": {},
   "outputs": [
    {
     "name": "stderr",
     "output_type": "stream",
     "text": [
      "c:\\Users\\Griffin Schwab\\anaconda3\\envs\\Capstone\\Lib\\site-packages\\sklearn\\metrics\\_classification.py:1469: UndefinedMetricWarning: Precision is ill-defined and being set to 0.0 in labels with no predicted samples. Use `zero_division` parameter to control this behavior.\n",
      "  _warn_prf(average, modifier, msg_start, len(result))\n"
     ]
    },
    {
     "data": {
      "text/html": [
       "<div>\n",
       "<style scoped>\n",
       "    .dataframe tbody tr th:only-of-type {\n",
       "        vertical-align: middle;\n",
       "    }\n",
       "\n",
       "    .dataframe tbody tr th {\n",
       "        vertical-align: top;\n",
       "    }\n",
       "\n",
       "    .dataframe thead th {\n",
       "        text-align: right;\n",
       "    }\n",
       "</style>\n",
       "<table border=\"1\" class=\"dataframe\">\n",
       "  <thead>\n",
       "    <tr style=\"text-align: right;\">\n",
       "      <th></th>\n",
       "      <th>Model</th>\n",
       "      <th>Time to Train</th>\n",
       "      <th>Time to Predict</th>\n",
       "      <th>F-score</th>\n",
       "      <th>Precision</th>\n",
       "      <th>Recall</th>\n",
       "      <th>Accuracy</th>\n",
       "    </tr>\n",
       "  </thead>\n",
       "  <tbody>\n",
       "    <tr>\n",
       "      <th>0</th>\n",
       "      <td>Naive Predictor</td>\n",
       "      <td>0.000000</td>\n",
       "      <td>0.00000</td>\n",
       "      <td>0.296252</td>\n",
       "      <td>0.251928</td>\n",
       "      <td>1.0</td>\n",
       "      <td>0.251928</td>\n",
       "    </tr>\n",
       "    <tr>\n",
       "      <th>1</th>\n",
       "      <td>SVC Without PCA</td>\n",
       "      <td>1.688114</td>\n",
       "      <td>0.00183</td>\n",
       "      <td>0.783784</td>\n",
       "      <td>0.743590</td>\n",
       "      <td>1.0</td>\n",
       "      <td>0.743590</td>\n",
       "    </tr>\n",
       "  </tbody>\n",
       "</table>\n",
       "</div>"
      ],
      "text/plain": [
       "             Model  Time to Train  Time to Predict   F-score  Precision  \\\n",
       "0  Naive Predictor       0.000000          0.00000  0.296252   0.251928   \n",
       "1  SVC Without PCA       1.688114          0.00183  0.783784   0.743590   \n",
       "\n",
       "   Recall  Accuracy  \n",
       "0     1.0  0.251928  \n",
       "1     1.0  0.743590  "
      ]
     },
     "metadata": {},
     "output_type": "display_data"
    },
    {
     "name": "stdout",
     "output_type": "stream",
     "text": [
      "{'C': 1.0, 'break_ties': False, 'cache_size': 200, 'class_weight': None, 'coef0': 0.0, 'decision_function_shape': 'ovo', 'degree': 3, 'gamma': 'scale', 'kernel': 'rbf', 'max_iter': -1, 'probability': True, 'random_state': 42, 'shrinking': True, 'tol': 0.001, 'verbose': False}\n"
     ]
    },
    {
     "data": {
      "text/plain": [
       "['./outputs/models/svc_no_pca.joblib']"
      ]
     },
     "execution_count": 8,
     "metadata": {},
     "output_type": "execute_result"
    }
   ],
   "source": [
    "from sklearn.metrics import make_scorer\n",
    "from sklearn.model_selection import GridSearchCV\n",
    "from sklearn.svm import SVC\n",
    "\n",
    "svc_no_pca = SVC(random_state=42)\n",
    "\n",
    "scorer = make_scorer(fbeta_score, beta=0.5, average='micro')\n",
    "parameters = {'kernel': ['linear', 'rbf', 'sigmoid', 'poly'],\n",
    "              'shrinking': [True, False],\n",
    "              'probability': [True, False],\n",
    "              'decision_function_shape': ['ovo', 'ovr']}\n",
    "\n",
    "grid_obj = GridSearchCV(svc_no_pca, parameters, scoring=scorer)\n",
    "\n",
    "results, svc_no_pca = train_predict('SVC Without PCA', grid_obj, x_train, y_train, x_test, y_test)\n",
    "time_df.loc[len(time_df.index)] = results\n",
    "display(time_df.head(10))\n",
    "\n",
    "print(svc_no_pca.get_params())\n",
    "dump(svc_no_pca, './outputs/models/svc_no_pca.joblib')"
   ]
  },
  {
   "cell_type": "markdown",
   "metadata": {},
   "source": [
    "##### K Nearest Neighbors"
   ]
  },
  {
   "cell_type": "code",
   "execution_count": 9,
   "metadata": {},
   "outputs": [
    {
     "data": {
      "text/html": [
       "<div>\n",
       "<style scoped>\n",
       "    .dataframe tbody tr th:only-of-type {\n",
       "        vertical-align: middle;\n",
       "    }\n",
       "\n",
       "    .dataframe tbody tr th {\n",
       "        vertical-align: top;\n",
       "    }\n",
       "\n",
       "    .dataframe thead th {\n",
       "        text-align: right;\n",
       "    }\n",
       "</style>\n",
       "<table border=\"1\" class=\"dataframe\">\n",
       "  <thead>\n",
       "    <tr style=\"text-align: right;\">\n",
       "      <th></th>\n",
       "      <th>Model</th>\n",
       "      <th>Time to Train</th>\n",
       "      <th>Time to Predict</th>\n",
       "      <th>F-score</th>\n",
       "      <th>Precision</th>\n",
       "      <th>Recall</th>\n",
       "      <th>Accuracy</th>\n",
       "    </tr>\n",
       "  </thead>\n",
       "  <tbody>\n",
       "    <tr>\n",
       "      <th>0</th>\n",
       "      <td>Naive Predictor</td>\n",
       "      <td>0.000000</td>\n",
       "      <td>0.000000</td>\n",
       "      <td>0.296252</td>\n",
       "      <td>0.251928</td>\n",
       "      <td>1.000000</td>\n",
       "      <td>0.251928</td>\n",
       "    </tr>\n",
       "    <tr>\n",
       "      <th>1</th>\n",
       "      <td>SVC Without PCA</td>\n",
       "      <td>1.688114</td>\n",
       "      <td>0.001830</td>\n",
       "      <td>0.783784</td>\n",
       "      <td>0.743590</td>\n",
       "      <td>1.000000</td>\n",
       "      <td>0.743590</td>\n",
       "    </tr>\n",
       "    <tr>\n",
       "      <th>2</th>\n",
       "      <td>KNN Without PCA</td>\n",
       "      <td>15.771061</td>\n",
       "      <td>0.013236</td>\n",
       "      <td>0.797546</td>\n",
       "      <td>0.776119</td>\n",
       "      <td>0.896552</td>\n",
       "      <td>0.730769</td>\n",
       "    </tr>\n",
       "  </tbody>\n",
       "</table>\n",
       "</div>"
      ],
      "text/plain": [
       "             Model  Time to Train  Time to Predict   F-score  Precision  \\\n",
       "0  Naive Predictor       0.000000         0.000000  0.296252   0.251928   \n",
       "1  SVC Without PCA       1.688114         0.001830  0.783784   0.743590   \n",
       "2  KNN Without PCA      15.771061         0.013236  0.797546   0.776119   \n",
       "\n",
       "     Recall  Accuracy  \n",
       "0  1.000000  0.251928  \n",
       "1  1.000000  0.743590  \n",
       "2  0.896552  0.730769  "
      ]
     },
     "metadata": {},
     "output_type": "display_data"
    },
    {
     "name": "stdout",
     "output_type": "stream",
     "text": [
      "{'algorithm': 'ball_tree', 'leaf_size': 10, 'metric': 'minkowski', 'metric_params': None, 'n_jobs': -1, 'n_neighbors': 11, 'p': 2, 'weights': 'uniform'}\n"
     ]
    },
    {
     "data": {
      "text/plain": [
       "['./outputs/models/knn_no_pca.joblib']"
      ]
     },
     "execution_count": 9,
     "metadata": {},
     "output_type": "execute_result"
    }
   ],
   "source": [
    "from sklearn.neighbors import KNeighborsClassifier\n",
    "\n",
    "knn_no_pca = KNeighborsClassifier()\n",
    "\n",
    "parameters = {'n_neighbors': [3, 5, 7, 9, 11],\n",
    "              'weights': ['uniform', 'distance'],\n",
    "              'algorithm': ['ball_tree', 'kd_tree', 'brute'],\n",
    "              'leaf_size': [10, 20, 30, 40, 50],\n",
    "              'n_jobs': [-1]}\n",
    "grid_obj = GridSearchCV(knn_no_pca, parameters, scoring=scorer)\n",
    "\n",
    "results, knn_no_pca = train_predict('KNN Without PCA', grid_obj, x_train, y_train, x_test, y_test)\n",
    "time_df.loc[len(time_df.index)] = results\n",
    "display(time_df.head(10))\n",
    "print(knn_no_pca.get_params())\n",
    "dump(knn_no_pca, './outputs/models/knn_no_pca.joblib')"
   ]
  },
  {
   "cell_type": "markdown",
   "metadata": {},
   "source": [
    "##### Random Forest"
   ]
  },
  {
   "cell_type": "code",
   "execution_count": 10,
   "metadata": {},
   "outputs": [
    {
     "name": "stderr",
     "output_type": "stream",
     "text": [
      "c:\\Users\\Griffin Schwab\\anaconda3\\envs\\Capstone\\Lib\\site-packages\\sklearn\\metrics\\_classification.py:1469: UndefinedMetricWarning: Precision is ill-defined and being set to 0.0 in labels with no predicted samples. Use `zero_division` parameter to control this behavior.\n",
      "  _warn_prf(average, modifier, msg_start, len(result))\n"
     ]
    },
    {
     "data": {
      "text/html": [
       "<div>\n",
       "<style scoped>\n",
       "    .dataframe tbody tr th:only-of-type {\n",
       "        vertical-align: middle;\n",
       "    }\n",
       "\n",
       "    .dataframe tbody tr th {\n",
       "        vertical-align: top;\n",
       "    }\n",
       "\n",
       "    .dataframe thead th {\n",
       "        text-align: right;\n",
       "    }\n",
       "</style>\n",
       "<table border=\"1\" class=\"dataframe\">\n",
       "  <thead>\n",
       "    <tr style=\"text-align: right;\">\n",
       "      <th></th>\n",
       "      <th>Model</th>\n",
       "      <th>Time to Train</th>\n",
       "      <th>Time to Predict</th>\n",
       "      <th>F-score</th>\n",
       "      <th>Precision</th>\n",
       "      <th>Recall</th>\n",
       "      <th>Accuracy</th>\n",
       "    </tr>\n",
       "  </thead>\n",
       "  <tbody>\n",
       "    <tr>\n",
       "      <th>0</th>\n",
       "      <td>Naive Predictor</td>\n",
       "      <td>0.000000</td>\n",
       "      <td>0.000000</td>\n",
       "      <td>0.296252</td>\n",
       "      <td>0.251928</td>\n",
       "      <td>1.000000</td>\n",
       "      <td>0.251928</td>\n",
       "    </tr>\n",
       "    <tr>\n",
       "      <th>1</th>\n",
       "      <td>SVC Without PCA</td>\n",
       "      <td>1.688114</td>\n",
       "      <td>0.001830</td>\n",
       "      <td>0.783784</td>\n",
       "      <td>0.743590</td>\n",
       "      <td>1.000000</td>\n",
       "      <td>0.743590</td>\n",
       "    </tr>\n",
       "    <tr>\n",
       "      <th>2</th>\n",
       "      <td>KNN Without PCA</td>\n",
       "      <td>15.771061</td>\n",
       "      <td>0.013236</td>\n",
       "      <td>0.797546</td>\n",
       "      <td>0.776119</td>\n",
       "      <td>0.896552</td>\n",
       "      <td>0.730769</td>\n",
       "    </tr>\n",
       "    <tr>\n",
       "      <th>3</th>\n",
       "      <td>RFC Without PCA</td>\n",
       "      <td>15.618838</td>\n",
       "      <td>0.014366</td>\n",
       "      <td>0.783784</td>\n",
       "      <td>0.743590</td>\n",
       "      <td>1.000000</td>\n",
       "      <td>0.743590</td>\n",
       "    </tr>\n",
       "  </tbody>\n",
       "</table>\n",
       "</div>"
      ],
      "text/plain": [
       "             Model  Time to Train  Time to Predict   F-score  Precision  \\\n",
       "0  Naive Predictor       0.000000         0.000000  0.296252   0.251928   \n",
       "1  SVC Without PCA       1.688114         0.001830  0.783784   0.743590   \n",
       "2  KNN Without PCA      15.771061         0.013236  0.797546   0.776119   \n",
       "3  RFC Without PCA      15.618838         0.014366  0.783784   0.743590   \n",
       "\n",
       "     Recall  Accuracy  \n",
       "0  1.000000  0.251928  \n",
       "1  1.000000  0.743590  \n",
       "2  0.896552  0.730769  \n",
       "3  1.000000  0.743590  "
      ]
     },
     "metadata": {},
     "output_type": "display_data"
    },
    {
     "name": "stdout",
     "output_type": "stream",
     "text": [
      "{'bootstrap': True, 'ccp_alpha': 0.0, 'class_weight': None, 'criterion': 'entropy', 'max_depth': None, 'max_features': 'log2', 'max_leaf_nodes': None, 'max_samples': None, 'min_impurity_decrease': 0.0, 'min_samples_leaf': 1, 'min_samples_split': 2, 'min_weight_fraction_leaf': 0.0, 'n_estimators': 100, 'n_jobs': -1, 'oob_score': False, 'random_state': 42, 'verbose': 0, 'warm_start': False}\n"
     ]
    },
    {
     "data": {
      "text/plain": [
       "['./outputs/models/rfc_no_pca.joblib']"
      ]
     },
     "execution_count": 10,
     "metadata": {},
     "output_type": "execute_result"
    }
   ],
   "source": [
    "from sklearn.ensemble import RandomForestClassifier\n",
    "\n",
    "rfc_no_pca = RandomForestClassifier(random_state=42)\n",
    "\n",
    "parameters = {'bootstrap': [True, False],\n",
    "              'n_estimators': [10, 25, 50, 75, 100], \n",
    "              'criterion': ['gini', 'entropy', 'log_loss'],\n",
    "              'max_features': ['sqrt', 'log2'],\n",
    "              'n_jobs': [-1]}\n",
    "\n",
    "grid_obj = GridSearchCV(rfc_no_pca, parameters, scoring=scorer)\n",
    "\n",
    "results, rfc_no_pca = train_predict('RFC Without PCA', grid_obj, x_train, y_train, x_test, y_test)\n",
    "time_df.loc[len(time_df.index)] = results\n",
    "display(time_df.head(10))\n",
    "print(rfc_no_pca.get_params())\n",
    "dump(rfc_no_pca, './outputs/models/rfc_no_pca.joblib')"
   ]
  },
  {
   "cell_type": "markdown",
   "metadata": {},
   "source": [
    "#### With PCA\n",
    "##### SVC"
   ]
  },
  {
   "cell_type": "code",
   "execution_count": 11,
   "metadata": {},
   "outputs": [
    {
     "data": {
      "text/plain": [
       "['./outputs/models/pca.joblib']"
      ]
     },
     "execution_count": 11,
     "metadata": {},
     "output_type": "execute_result"
    }
   ],
   "source": [
    "from sklearn.decomposition import PCA\n",
    "\n",
    "pca = PCA(random_state=42, n_components=100)\n",
    "pca.fit(x_train)\n",
    "x_train_pca = pca.transform(x_train)\n",
    "x_test_pca = pca.transform(x_test)\n",
    "\n",
    "# Export PCA\n",
    "dump(pca, './outputs/models/pca.joblib')"
   ]
  },
  {
   "cell_type": "code",
   "execution_count": 12,
   "metadata": {},
   "outputs": [
    {
     "data": {
      "text/html": [
       "<div>\n",
       "<style scoped>\n",
       "    .dataframe tbody tr th:only-of-type {\n",
       "        vertical-align: middle;\n",
       "    }\n",
       "\n",
       "    .dataframe tbody tr th {\n",
       "        vertical-align: top;\n",
       "    }\n",
       "\n",
       "    .dataframe thead th {\n",
       "        text-align: right;\n",
       "    }\n",
       "</style>\n",
       "<table border=\"1\" class=\"dataframe\">\n",
       "  <thead>\n",
       "    <tr style=\"text-align: right;\">\n",
       "      <th></th>\n",
       "      <th>Model</th>\n",
       "      <th>Time to Train</th>\n",
       "      <th>Time to Predict</th>\n",
       "      <th>F-score</th>\n",
       "      <th>Precision</th>\n",
       "      <th>Recall</th>\n",
       "      <th>Accuracy</th>\n",
       "    </tr>\n",
       "  </thead>\n",
       "  <tbody>\n",
       "    <tr>\n",
       "      <th>0</th>\n",
       "      <td>Naive Predictor</td>\n",
       "      <td>0.000000</td>\n",
       "      <td>0.000000</td>\n",
       "      <td>0.296252</td>\n",
       "      <td>0.251928</td>\n",
       "      <td>1.000000</td>\n",
       "      <td>0.251928</td>\n",
       "    </tr>\n",
       "    <tr>\n",
       "      <th>1</th>\n",
       "      <td>SVC Without PCA</td>\n",
       "      <td>1.688114</td>\n",
       "      <td>0.001830</td>\n",
       "      <td>0.783784</td>\n",
       "      <td>0.743590</td>\n",
       "      <td>1.000000</td>\n",
       "      <td>0.743590</td>\n",
       "    </tr>\n",
       "    <tr>\n",
       "      <th>2</th>\n",
       "      <td>KNN Without PCA</td>\n",
       "      <td>15.771061</td>\n",
       "      <td>0.013236</td>\n",
       "      <td>0.797546</td>\n",
       "      <td>0.776119</td>\n",
       "      <td>0.896552</td>\n",
       "      <td>0.730769</td>\n",
       "    </tr>\n",
       "    <tr>\n",
       "      <th>3</th>\n",
       "      <td>RFC Without PCA</td>\n",
       "      <td>15.618838</td>\n",
       "      <td>0.014366</td>\n",
       "      <td>0.783784</td>\n",
       "      <td>0.743590</td>\n",
       "      <td>1.000000</td>\n",
       "      <td>0.743590</td>\n",
       "    </tr>\n",
       "    <tr>\n",
       "      <th>4</th>\n",
       "      <td>SVC With PCA</td>\n",
       "      <td>1.415798</td>\n",
       "      <td>0.000764</td>\n",
       "      <td>0.773481</td>\n",
       "      <td>0.736842</td>\n",
       "      <td>0.965517</td>\n",
       "      <td>0.717949</td>\n",
       "    </tr>\n",
       "  </tbody>\n",
       "</table>\n",
       "</div>"
      ],
      "text/plain": [
       "             Model  Time to Train  Time to Predict   F-score  Precision  \\\n",
       "0  Naive Predictor       0.000000         0.000000  0.296252   0.251928   \n",
       "1  SVC Without PCA       1.688114         0.001830  0.783784   0.743590   \n",
       "2  KNN Without PCA      15.771061         0.013236  0.797546   0.776119   \n",
       "3  RFC Without PCA      15.618838         0.014366  0.783784   0.743590   \n",
       "4     SVC With PCA       1.415798         0.000764  0.773481   0.736842   \n",
       "\n",
       "     Recall  Accuracy  \n",
       "0  1.000000  0.251928  \n",
       "1  1.000000  0.743590  \n",
       "2  0.896552  0.730769  \n",
       "3  1.000000  0.743590  \n",
       "4  0.965517  0.717949  "
      ]
     },
     "metadata": {},
     "output_type": "display_data"
    },
    {
     "name": "stdout",
     "output_type": "stream",
     "text": [
      "{'C': 1.0, 'break_ties': False, 'cache_size': 200, 'class_weight': None, 'coef0': 0.0, 'decision_function_shape': 'ovo', 'degree': 3, 'gamma': 'scale', 'kernel': 'sigmoid', 'max_iter': -1, 'probability': True, 'random_state': 42, 'shrinking': True, 'tol': 0.001, 'verbose': False}\n"
     ]
    },
    {
     "data": {
      "text/plain": [
       "['./outputs/models/svc_pca.joblib']"
      ]
     },
     "execution_count": 12,
     "metadata": {},
     "output_type": "execute_result"
    }
   ],
   "source": [
    "svc_pca = SVC(random_state=42)\n",
    "\n",
    "parameters = {'kernel': ['linear', 'rbf', 'sigmoid', 'poly'],\n",
    "              'shrinking': [True, False],\n",
    "              'probability': [True, False],\n",
    "              'decision_function_shape': ['ovo', 'ovr']}\n",
    "\n",
    "grid_obj = GridSearchCV(svc_pca, parameters, scoring=scorer)\n",
    "\n",
    "results, svc_pca = train_predict('SVC With PCA', grid_obj, x_train_pca, y_train, x_test_pca, y_test)\n",
    "time_df.loc[len(time_df.index)] = results\n",
    "display(time_df.head(10))\n",
    "\n",
    "print(svc_pca.get_params())\n",
    "dump(svc_pca, './outputs/models/svc_pca.joblib')"
   ]
  },
  {
   "cell_type": "markdown",
   "metadata": {},
   "source": [
    "##### K Nearest Neighbors"
   ]
  },
  {
   "cell_type": "code",
   "execution_count": 13,
   "metadata": {},
   "outputs": [
    {
     "data": {
      "text/html": [
       "<div>\n",
       "<style scoped>\n",
       "    .dataframe tbody tr th:only-of-type {\n",
       "        vertical-align: middle;\n",
       "    }\n",
       "\n",
       "    .dataframe tbody tr th {\n",
       "        vertical-align: top;\n",
       "    }\n",
       "\n",
       "    .dataframe thead th {\n",
       "        text-align: right;\n",
       "    }\n",
       "</style>\n",
       "<table border=\"1\" class=\"dataframe\">\n",
       "  <thead>\n",
       "    <tr style=\"text-align: right;\">\n",
       "      <th></th>\n",
       "      <th>Model</th>\n",
       "      <th>Time to Train</th>\n",
       "      <th>Time to Predict</th>\n",
       "      <th>F-score</th>\n",
       "      <th>Precision</th>\n",
       "      <th>Recall</th>\n",
       "      <th>Accuracy</th>\n",
       "    </tr>\n",
       "  </thead>\n",
       "  <tbody>\n",
       "    <tr>\n",
       "      <th>0</th>\n",
       "      <td>Naive Predictor</td>\n",
       "      <td>0.000000</td>\n",
       "      <td>0.000000</td>\n",
       "      <td>0.296252</td>\n",
       "      <td>0.251928</td>\n",
       "      <td>1.000000</td>\n",
       "      <td>0.251928</td>\n",
       "    </tr>\n",
       "    <tr>\n",
       "      <th>1</th>\n",
       "      <td>SVC Without PCA</td>\n",
       "      <td>1.688114</td>\n",
       "      <td>0.001830</td>\n",
       "      <td>0.783784</td>\n",
       "      <td>0.743590</td>\n",
       "      <td>1.000000</td>\n",
       "      <td>0.743590</td>\n",
       "    </tr>\n",
       "    <tr>\n",
       "      <th>2</th>\n",
       "      <td>KNN Without PCA</td>\n",
       "      <td>15.771061</td>\n",
       "      <td>0.013236</td>\n",
       "      <td>0.797546</td>\n",
       "      <td>0.776119</td>\n",
       "      <td>0.896552</td>\n",
       "      <td>0.730769</td>\n",
       "    </tr>\n",
       "    <tr>\n",
       "      <th>3</th>\n",
       "      <td>RFC Without PCA</td>\n",
       "      <td>15.618838</td>\n",
       "      <td>0.014366</td>\n",
       "      <td>0.783784</td>\n",
       "      <td>0.743590</td>\n",
       "      <td>1.000000</td>\n",
       "      <td>0.743590</td>\n",
       "    </tr>\n",
       "    <tr>\n",
       "      <th>4</th>\n",
       "      <td>SVC With PCA</td>\n",
       "      <td>1.415798</td>\n",
       "      <td>0.000764</td>\n",
       "      <td>0.773481</td>\n",
       "      <td>0.736842</td>\n",
       "      <td>0.965517</td>\n",
       "      <td>0.717949</td>\n",
       "    </tr>\n",
       "    <tr>\n",
       "      <th>5</th>\n",
       "      <td>KNN With PCA</td>\n",
       "      <td>14.946534</td>\n",
       "      <td>0.009846</td>\n",
       "      <td>0.791925</td>\n",
       "      <td>0.772727</td>\n",
       "      <td>0.879310</td>\n",
       "      <td>0.717949</td>\n",
       "    </tr>\n",
       "  </tbody>\n",
       "</table>\n",
       "</div>"
      ],
      "text/plain": [
       "             Model  Time to Train  Time to Predict   F-score  Precision  \\\n",
       "0  Naive Predictor       0.000000         0.000000  0.296252   0.251928   \n",
       "1  SVC Without PCA       1.688114         0.001830  0.783784   0.743590   \n",
       "2  KNN Without PCA      15.771061         0.013236  0.797546   0.776119   \n",
       "3  RFC Without PCA      15.618838         0.014366  0.783784   0.743590   \n",
       "4     SVC With PCA       1.415798         0.000764  0.773481   0.736842   \n",
       "5     KNN With PCA      14.946534         0.009846  0.791925   0.772727   \n",
       "\n",
       "     Recall  Accuracy  \n",
       "0  1.000000  0.251928  \n",
       "1  1.000000  0.743590  \n",
       "2  0.896552  0.730769  \n",
       "3  1.000000  0.743590  \n",
       "4  0.965517  0.717949  \n",
       "5  0.879310  0.717949  "
      ]
     },
     "metadata": {},
     "output_type": "display_data"
    },
    {
     "name": "stdout",
     "output_type": "stream",
     "text": [
      "{'algorithm': 'ball_tree', 'leaf_size': 10, 'metric': 'minkowski', 'metric_params': None, 'n_jobs': -1, 'n_neighbors': 11, 'p': 2, 'weights': 'uniform'}\n"
     ]
    },
    {
     "data": {
      "text/plain": [
       "['./outputs/models/knn_pca.joblib']"
      ]
     },
     "execution_count": 13,
     "metadata": {},
     "output_type": "execute_result"
    }
   ],
   "source": [
    "knn_pca = KNeighborsClassifier()\n",
    "\n",
    "parameters = {'n_neighbors': [3, 5, 7, 9, 11],\n",
    "              'weights': ['uniform', 'distance'],\n",
    "              'algorithm': ['ball_tree', 'kd_tree', 'brute'],\n",
    "              'leaf_size': [10, 20, 30, 40, 50],\n",
    "              'n_jobs': [-1]}\n",
    "grid_obj = GridSearchCV(knn_pca, parameters, scoring=scorer)\n",
    "\n",
    "results, knn_no_pca = train_predict('KNN With PCA', grid_obj, x_train_pca, y_train, x_test_pca, y_test)\n",
    "time_df.loc[len(time_df.index)] = results\n",
    "display(time_df.head(10))\n",
    "print(knn_no_pca.get_params())\n",
    "dump(knn_no_pca, './outputs/models/knn_pca.joblib')"
   ]
  },
  {
   "cell_type": "markdown",
   "metadata": {},
   "source": [
    "##### Random Forest"
   ]
  },
  {
   "cell_type": "code",
   "execution_count": 14,
   "metadata": {},
   "outputs": [
    {
     "data": {
      "text/html": [
       "<div>\n",
       "<style scoped>\n",
       "    .dataframe tbody tr th:only-of-type {\n",
       "        vertical-align: middle;\n",
       "    }\n",
       "\n",
       "    .dataframe tbody tr th {\n",
       "        vertical-align: top;\n",
       "    }\n",
       "\n",
       "    .dataframe thead th {\n",
       "        text-align: right;\n",
       "    }\n",
       "</style>\n",
       "<table border=\"1\" class=\"dataframe\">\n",
       "  <thead>\n",
       "    <tr style=\"text-align: right;\">\n",
       "      <th></th>\n",
       "      <th>Model</th>\n",
       "      <th>Time to Train</th>\n",
       "      <th>Time to Predict</th>\n",
       "      <th>F-score</th>\n",
       "      <th>Precision</th>\n",
       "      <th>Recall</th>\n",
       "      <th>Accuracy</th>\n",
       "    </tr>\n",
       "  </thead>\n",
       "  <tbody>\n",
       "    <tr>\n",
       "      <th>0</th>\n",
       "      <td>Naive Predictor</td>\n",
       "      <td>0.000000</td>\n",
       "      <td>0.000000</td>\n",
       "      <td>0.296252</td>\n",
       "      <td>0.251928</td>\n",
       "      <td>1.000000</td>\n",
       "      <td>0.251928</td>\n",
       "    </tr>\n",
       "    <tr>\n",
       "      <th>1</th>\n",
       "      <td>SVC Without PCA</td>\n",
       "      <td>1.688114</td>\n",
       "      <td>0.001830</td>\n",
       "      <td>0.783784</td>\n",
       "      <td>0.743590</td>\n",
       "      <td>1.000000</td>\n",
       "      <td>0.743590</td>\n",
       "    </tr>\n",
       "    <tr>\n",
       "      <th>2</th>\n",
       "      <td>KNN Without PCA</td>\n",
       "      <td>15.771061</td>\n",
       "      <td>0.013236</td>\n",
       "      <td>0.797546</td>\n",
       "      <td>0.776119</td>\n",
       "      <td>0.896552</td>\n",
       "      <td>0.730769</td>\n",
       "    </tr>\n",
       "    <tr>\n",
       "      <th>3</th>\n",
       "      <td>RFC Without PCA</td>\n",
       "      <td>15.618838</td>\n",
       "      <td>0.014366</td>\n",
       "      <td>0.783784</td>\n",
       "      <td>0.743590</td>\n",
       "      <td>1.000000</td>\n",
       "      <td>0.743590</td>\n",
       "    </tr>\n",
       "    <tr>\n",
       "      <th>4</th>\n",
       "      <td>SVC With PCA</td>\n",
       "      <td>1.415798</td>\n",
       "      <td>0.000764</td>\n",
       "      <td>0.773481</td>\n",
       "      <td>0.736842</td>\n",
       "      <td>0.965517</td>\n",
       "      <td>0.717949</td>\n",
       "    </tr>\n",
       "    <tr>\n",
       "      <th>5</th>\n",
       "      <td>KNN With PCA</td>\n",
       "      <td>14.946534</td>\n",
       "      <td>0.009846</td>\n",
       "      <td>0.791925</td>\n",
       "      <td>0.772727</td>\n",
       "      <td>0.879310</td>\n",
       "      <td>0.717949</td>\n",
       "    </tr>\n",
       "    <tr>\n",
       "      <th>6</th>\n",
       "      <td>RFC With PCA</td>\n",
       "      <td>15.248184</td>\n",
       "      <td>0.014331</td>\n",
       "      <td>0.771429</td>\n",
       "      <td>0.739726</td>\n",
       "      <td>0.931034</td>\n",
       "      <td>0.705128</td>\n",
       "    </tr>\n",
       "  </tbody>\n",
       "</table>\n",
       "</div>"
      ],
      "text/plain": [
       "             Model  Time to Train  Time to Predict   F-score  Precision  \\\n",
       "0  Naive Predictor       0.000000         0.000000  0.296252   0.251928   \n",
       "1  SVC Without PCA       1.688114         0.001830  0.783784   0.743590   \n",
       "2  KNN Without PCA      15.771061         0.013236  0.797546   0.776119   \n",
       "3  RFC Without PCA      15.618838         0.014366  0.783784   0.743590   \n",
       "4     SVC With PCA       1.415798         0.000764  0.773481   0.736842   \n",
       "5     KNN With PCA      14.946534         0.009846  0.791925   0.772727   \n",
       "6     RFC With PCA      15.248184         0.014331  0.771429   0.739726   \n",
       "\n",
       "     Recall  Accuracy  \n",
       "0  1.000000  0.251928  \n",
       "1  1.000000  0.743590  \n",
       "2  0.896552  0.730769  \n",
       "3  1.000000  0.743590  \n",
       "4  0.965517  0.717949  \n",
       "5  0.879310  0.717949  \n",
       "6  0.931034  0.705128  "
      ]
     },
     "metadata": {},
     "output_type": "display_data"
    },
    {
     "name": "stdout",
     "output_type": "stream",
     "text": [
      "{'bootstrap': False, 'ccp_alpha': 0.0, 'class_weight': None, 'criterion': 'entropy', 'max_depth': None, 'max_features': 'sqrt', 'max_leaf_nodes': None, 'max_samples': None, 'min_impurity_decrease': 0.0, 'min_samples_leaf': 1, 'min_samples_split': 2, 'min_weight_fraction_leaf': 0.0, 'n_estimators': 100, 'n_jobs': -1, 'oob_score': False, 'random_state': 42, 'verbose': 0, 'warm_start': False}\n"
     ]
    },
    {
     "data": {
      "text/plain": [
       "['./outputs/models/rfc_pca.joblib']"
      ]
     },
     "execution_count": 14,
     "metadata": {},
     "output_type": "execute_result"
    }
   ],
   "source": [
    "rfc_pca = RandomForestClassifier(random_state=42)\n",
    "\n",
    "parameters = {'bootstrap': [True, False],\n",
    "              'n_estimators': [10, 25, 50, 75, 100], \n",
    "              'criterion': ['gini', 'entropy', 'log_loss'],\n",
    "              'max_features': ['sqrt', 'log2'],\n",
    "              'n_jobs': [-1]}\n",
    "\n",
    "grid_obj = GridSearchCV(rfc_pca, parameters, scoring=scorer)\n",
    "\n",
    "results, rfc_pca = train_predict('RFC With PCA', grid_obj, x_train_pca, y_train, x_test_pca, y_test)\n",
    "time_df.loc[len(time_df.index)] = results\n",
    "display(time_df.head(10))\n",
    "print(rfc_pca.get_params())\n",
    "dump(rfc_pca, './outputs/models/rfc_pca.joblib')"
   ]
  },
  {
   "cell_type": "code",
   "execution_count": 15,
   "metadata": {},
   "outputs": [],
   "source": [
    "# save results to csv\n",
    "time_df.to_csv('./outputs/data/model-performance.csv')"
   ]
  },
  {
   "cell_type": "markdown",
   "metadata": {},
   "source": [
    "### Compare Models Performance"
   ]
  },
  {
   "cell_type": "code",
   "execution_count": 20,
   "metadata": {},
   "outputs": [
    {
     "data": {
      "image/png": "[encoded data removed]",
      "text/plain": [
       "<Figure size 1400x700 with 1 Axes>"
      ]
     },
     "metadata": {},
     "output_type": "display_data"
    }
   ],
   "source": [
    "import matplotlib.ticker as ticker\n",
    "plt.figure(figsize=(14,7))\n",
    "plt.title('Model Performance')\n",
    "plt.ylabel('Score')\n",
    "plt.xlabel('Model')\n",
    "plt.ylim((0,0.85))\n",
    "plt.axhline(y=0.8, color='r', linestyle='dotted', label='Target F-score')\n",
    "plt.axhline(y=time_df.iloc[0]['F-score'], color='b', linestyle='dotted', label='Naive Predictor F-score')\n",
    "plt.legend()\n",
    "\n",
    "formatter = ticker.FuncFormatter(lambda y, pos: f'{round(y * 100, 0)}%')\n",
    "plt.gca().yaxis.set_major_formatter(formatter)\n",
    "\n",
    "time_df.iloc[range(1,len(time_df.index))].sort_values('F-score', ascending= False).plot.bar(x='Model', y=['F-score', 'Precision', 'Accuracy'], ax=plt.gca());\n"
   ]
  },
  {
   "cell_type": "code",
   "execution_count": 17,
   "metadata": {},
   "outputs": [
    {
     "data": {
      "image/png": "[encoded data removed]",
      "text/plain": [
       "<Figure size 1400x700 with 1 Axes>"
      ]
     },
     "metadata": {},
     "output_type": "display_data"
    }
   ],
   "source": [
    "plt.figure(figsize=(14,7))\n",
    "plt.title('Model Training Time')\n",
    "plt.ylabel('Time (seconds)')\n",
    "plt.xlabel('Model')\n",
    "plt.ylim((0,20))\n",
    "\n",
    "time_df.iloc[range(1,len(time_df.index))].sort_values('Time to Train', ascending= True).plot.bar(x='Model', y='Time to Train', ax=plt.gca());"
   ]
  },
  {
   "cell_type": "code",
   "execution_count": 18,
   "metadata": {},
   "outputs": [
    {
     "data": {
      "image/png": "[encoded data removed]",
      "text/plain": [
       "<Figure size 1400x700 with 1 Axes>"
      ]
     },
     "metadata": {},
     "output_type": "display_data"
    }
   ],
   "source": [
    "plt.figure(figsize=(14,7))\n",
    "plt.title('Model Prediction Time')\n",
    "plt.ylabel('Time (milliseconds)')\n",
    "plt.xlabel('Model')\n",
    "plt.ylim((0,0.02))\n",
    "\n",
    "# Use FuncFormatter to apply a lambda to the y-values\n",
    "formatter = ticker.FuncFormatter(lambda y, pos: f'{y * 1000}')\n",
    "plt.gca().yaxis.set_major_formatter(formatter)\n",
    "\n",
    "time_df.iloc[range(1,len(time_df.index))].sort_values('Time to Predict', ascending= True).plot.bar(x='Model', y='Time to Predict', ax=plt.gca());"
   ]
  }
 ],
 "metadata": {
  "kernelspec": {
   "display_name": "Capstone",
   "language": "python",
   "name": "python3"
  },
  "language_info": {
   "codemirror_mode": {
    "name": "ipython",
    "version": 3
   },
   "file_extension": ".py",
   "mimetype": "text/x-python",
   "name": "python",
   "nbconvert_exporter": "python",
   "pygments_lexer": "ipython3",
   "version": "3.11.5"
  }
 },
 "nbformat": 4,
 "nbformat_minor": 2
}
