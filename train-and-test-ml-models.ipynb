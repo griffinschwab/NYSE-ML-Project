{
 "cells": [
  {
   "cell_type": "markdown",
   "metadata": {},
   "source": [
    "# NYSE ML Project Machine Learning Analysis\n",
    "This notebook will training and testing three different machine learning models with and without PCA. The three algorithms used are Support Vector Classifier (SVC), K nearest neighbors, and random forest decision trees."
   ]
  },
  {
   "cell_type": "markdown",
   "metadata": {},
   "source": [
    "## Setup"
   ]
  },
  {
   "cell_type": "code",
   "execution_count": 1,
   "metadata": {},
   "outputs": [],
   "source": [
    "import timeit\n",
    "import pandas as pd\n",
    "import numpy as np\n",
    "import matplotlib.pyplot as plt\n",
    "import seaborn as sns\n",
    "\n",
    "from pandas.core.frame import DataFrame\n",
    "from pandas.core.series import Series\n",
    "from matplotlib import ticker\n",
    "from sklearn.metrics import fbeta_score, accuracy_score, precision_score, recall_score, make_scorer\n",
    "from sklearn.model_selection import GridSearchCV, train_test_split\n",
    "from sklearn.preprocessing import MinMaxScaler\n",
    "from sklearn.svm import SVC\n",
    "from sklearn.neighbors import KNeighborsClassifier\n",
    "from sklearn.ensemble import RandomForestClassifier\n",
    "from sklearn.decomposition import PCA\n",
    "from IPython.display import display\n",
    "from joblib import dump, load\n",
    "\n",
    "%matplotlib inline"
   ]
  },
  {
   "cell_type": "code",
   "execution_count": 2,
   "metadata": {},
   "outputs": [],
   "source": [
    "cleaned_df = pd.read_csv('./outputs/data/final-model.csv')"
   ]
  },
  {
   "cell_type": "markdown",
   "metadata": {},
   "source": [
    "Create DataFrame for Results"
   ]
  },
  {
   "cell_type": "code",
   "execution_count": 3,
   "metadata": {},
   "outputs": [],
   "source": [
    "time_df = pd.DataFrame(columns=['Model', 'Time to Train', 'Time to Predict', 'F-score', 'Precision', 'Recall', 'Accuracy'])"
   ]
  },
  {
   "cell_type": "markdown",
   "metadata": {},
   "source": [
    "Create Function to Train, Predict, and Populate Results DataFrame"
   ]
  },
  {
   "cell_type": "code",
   "execution_count": 4,
   "metadata": {},
   "outputs": [],
   "source": [
    "# Function to train predict, and populate scores in the results dictionary\n",
    "def train_predict(model:str,\n",
    "                  grid_obj:GridSearchCV ,\n",
    "                  x_train: DataFrame,\n",
    "                  y_train: DataFrame,\n",
    "                  x_test: Series,\n",
    "                  y_test: Series) -> dict: \n",
    "    '''\n",
    "    inputs:\n",
    "        - model: the name of the model\n",
    "        - grid_obj: the grid search object to train and predict\n",
    "        - x_train: features training set\n",
    "        - y_train: income training set\n",
    "        - x_test: features testing set\n",
    "        - y_test: income testing set\n",
    "    '''\n",
    "    \n",
    "    results = {}\n",
    "    results['Model'] = model\n",
    "    \n",
    "    start = timeit.default_timer()\n",
    "    grid_fit = grid_obj.fit(x_train, y_train)\n",
    "    end = timeit.default_timer()\n",
    "    learner = grid_fit.best_estimator_\n",
    "    \n",
    "    results['Time to Train'] = end - start\n",
    "        \n",
    "    start = timeit.default_timer()\n",
    "    predictions_test = learner.predict(x_test)\n",
    "    end = timeit.default_timer()\n",
    "    \n",
    "    results['Time to Predict'] = end - start\n",
    "            \n",
    "    results['F-score'] = fbeta_score(y_test, predictions_test, beta=0.5, average=None)[0]\n",
    "        \n",
    "    results['Precision'] = precision_score(y_test, predictions_test, average=None)[0]\n",
    "    \n",
    "    results['Recall'] = recall_score(y_test, predictions_test, average=None)[0]\n",
    "        \n",
    "    results['Accuracy'] = accuracy_score(y_test, predictions_test)\n",
    "       \n",
    "    return results, learner"
   ]
  },
  {
   "cell_type": "markdown",
   "metadata": {},
   "source": [
    "### Handling Data Types"
   ]
  },
  {
   "cell_type": "code",
   "execution_count": 5,
   "metadata": {},
   "outputs": [
    {
     "name": "stdout",
     "output_type": "stream",
     "text": [
      "float64    231\n",
      "object       3\n",
      "int64        1\n",
      "bool         1\n",
      "Name: count, dtype: int64\n"
     ]
    }
   ],
   "source": [
    "dtype_counts = cleaned_df.dtypes.value_counts()\n",
    "print(dtype_counts)"
   ]
  },
  {
   "cell_type": "markdown",
   "metadata": {},
   "source": [
    "Convert Data Types"
   ]
  },
  {
   "cell_type": "code",
   "execution_count": 6,
   "metadata": {},
   "outputs": [
    {
     "name": "stdout",
     "output_type": "stream",
     "text": [
      "float64     231\n",
      "int64         1\n",
      "object        1\n",
      "bool          1\n",
      "category      1\n",
      "category      1\n",
      "Name: count, dtype: int64\n"
     ]
    }
   ],
   "source": [
    "cleaned_df['GICS Sector'] = cleaned_df['GICS Sector'].astype('category')\n",
    "cleaned_df['GICS Sub Industry'] = cleaned_df['GICS Sub Industry'].astype('category')\n",
    "\n",
    "# Confirm all data types are correct\n",
    "dtype_counts = cleaned_df.dtypes.value_counts()\n",
    "print(dtype_counts)"
   ]
  },
  {
   "cell_type": "markdown",
   "metadata": {},
   "source": [
    "## Split Into Train and Test"
   ]
  },
  {
   "cell_type": "code",
   "execution_count": 7,
   "metadata": {},
   "outputs": [
    {
     "data": {
      "text/plain": [
       "(435, 362)"
      ]
     },
     "execution_count": 7,
     "metadata": {},
     "output_type": "execute_result"
    }
   ],
   "source": [
    "# Add dummy encoding for categorical variables\n",
    "cleaned_df = pd.get_dummies(cleaned_df, columns=cleaned_df.select_dtypes(include=['category']).columns)\n",
    "cleaned_df.shape"
   ]
  },
  {
   "cell_type": "code",
   "execution_count": 8,
   "metadata": {},
   "outputs": [
    {
     "name": "stdout",
     "output_type": "stream",
     "text": [
      "<class 'pandas.core.frame.DataFrame'>\n",
      "<class 'pandas.core.frame.DataFrame'>\n",
      "<class 'pandas.core.series.Series'>\n",
      "<class 'pandas.core.series.Series'>\n"
     ]
    }
   ],
   "source": [
    "top_performing_raw = cleaned_df['75th Percentile']\n",
    "features_raw = cleaned_df.drop(['75th Percentile'], axis=1)\n",
    "symbols_raw = features_raw['Symbol']\n",
    "features_raw = features_raw.drop(['Symbol'], axis=1)\n",
    "\n",
    "x_train, x_test, y_train, y_test = train_test_split(features_raw,\n",
    "                                                    top_performing_raw,\n",
    "                                                    test_size=0.2,\n",
    "                                                    random_state=42)\n",
    "\n",
    "print(type(x_train))\n",
    "print(type(x_test))\n",
    "print(type(y_train))\n",
    "print(type(y_test))"
   ]
  },
  {
   "cell_type": "markdown",
   "metadata": {},
   "source": [
    "### Standardize Values"
   ]
  },
  {
   "cell_type": "code",
   "execution_count": 9,
   "metadata": {},
   "outputs": [],
   "source": [
    "scalar = MinMaxScaler()\n",
    "x_train = scalar.fit_transform(x_train)\n",
    "x_test = scalar.transform(x_test)"
   ]
  },
  {
   "cell_type": "code",
   "execution_count": 10,
   "metadata": {},
   "outputs": [
    {
     "data": {
      "text/plain": [
       "['./outputs/models/scalar.joblib']"
      ]
     },
     "execution_count": 10,
     "metadata": {},
     "output_type": "execute_result"
    }
   ],
   "source": [
    "# Export scalar\n",
    "dump(scalar, './outputs/models/scalar.joblib')"
   ]
  },
  {
   "cell_type": "markdown",
   "metadata": {},
   "source": [
    "### Naive Predictor Performance"
   ]
  },
  {
   "cell_type": "code",
   "execution_count": 11,
   "metadata": {},
   "outputs": [
    {
     "data": {
      "text/html": [
       "<div>\n",
       "<style scoped>\n",
       "    .dataframe tbody tr th:only-of-type {\n",
       "        vertical-align: middle;\n",
       "    }\n",
       "\n",
       "    .dataframe tbody tr th {\n",
       "        vertical-align: top;\n",
       "    }\n",
       "\n",
       "    .dataframe thead th {\n",
       "        text-align: right;\n",
       "    }\n",
       "</style>\n",
       "<table border=\"1\" class=\"dataframe\">\n",
       "  <thead>\n",
       "    <tr style=\"text-align: right;\">\n",
       "      <th></th>\n",
       "      <th>Model</th>\n",
       "      <th>Time to Train</th>\n",
       "      <th>Time to Predict</th>\n",
       "      <th>F-score</th>\n",
       "      <th>Precision</th>\n",
       "      <th>Recall</th>\n",
       "      <th>Accuracy</th>\n",
       "    </tr>\n",
       "  </thead>\n",
       "  <tbody>\n",
       "    <tr>\n",
       "      <th>0</th>\n",
       "      <td>Naive Predictor</td>\n",
       "      <td>0</td>\n",
       "      <td>0</td>\n",
       "      <td>0.299838</td>\n",
       "      <td>0.255172</td>\n",
       "      <td>1.0</td>\n",
       "      <td>0.255172</td>\n",
       "    </tr>\n",
       "  </tbody>\n",
       "</table>\n",
       "</div>"
      ],
      "text/plain": [
       "             Model  Time to Train  Time to Predict   F-score  Precision  \\\n",
       "0  Naive Predictor              0                0  0.299838   0.255172   \n",
       "\n",
       "   Recall  Accuracy  \n",
       "0     1.0  0.255172  "
      ]
     },
     "execution_count": 11,
     "metadata": {},
     "output_type": "execute_result"
    }
   ],
   "source": [
    "true_positives = np.sum(top_performing_raw)\n",
    "false_positives = top_performing_raw.count() - true_positives\n",
    "true_negatives = 0\n",
    "false_negatives = 0\n",
    "\n",
    "accuracy = true_positives / (true_positives + false_positives)\n",
    "recall = true_positives / (true_positives + false_negatives)\n",
    "precision = true_positives / (true_positives + false_positives)\n",
    "fscore = (1 + pow(0.5,2)) * ((precision * recall) / ((pow(0.5,2) * precision) + recall))\n",
    "\n",
    "new_row = {\n",
    "    'Model': 'Naive Predictor',\n",
    "    'Time to Train': 0,\n",
    "    'Time to Predict': 0,\n",
    "    'F-score': fscore,\n",
    "    'Precision': precision,\n",
    "    'Recall': recall,\n",
    "    'Accuracy': accuracy\n",
    "}\n",
    "\n",
    "time_df.loc[len(time_df.index)] = new_row\n",
    "time_df.head(10)"
   ]
  },
  {
   "cell_type": "markdown",
   "metadata": {},
   "source": [
    "### Train Models"
   ]
  },
  {
   "cell_type": "markdown",
   "metadata": {},
   "source": [
    "#### Without PCA\n",
    "##### SVC"
   ]
  },
  {
   "cell_type": "code",
   "execution_count": 12,
   "metadata": {},
   "outputs": [
    {
     "data": {
      "text/html": [
       "<div>\n",
       "<style scoped>\n",
       "    .dataframe tbody tr th:only-of-type {\n",
       "        vertical-align: middle;\n",
       "    }\n",
       "\n",
       "    .dataframe tbody tr th {\n",
       "        vertical-align: top;\n",
       "    }\n",
       "\n",
       "    .dataframe thead th {\n",
       "        text-align: right;\n",
       "    }\n",
       "</style>\n",
       "<table border=\"1\" class=\"dataframe\">\n",
       "  <thead>\n",
       "    <tr style=\"text-align: right;\">\n",
       "      <th></th>\n",
       "      <th>Model</th>\n",
       "      <th>Time to Train</th>\n",
       "      <th>Time to Predict</th>\n",
       "      <th>F-score</th>\n",
       "      <th>Precision</th>\n",
       "      <th>Recall</th>\n",
       "      <th>Accuracy</th>\n",
       "    </tr>\n",
       "  </thead>\n",
       "  <tbody>\n",
       "    <tr>\n",
       "      <th>0</th>\n",
       "      <td>Naive Predictor</td>\n",
       "      <td>0.000000</td>\n",
       "      <td>0.000000</td>\n",
       "      <td>0.299838</td>\n",
       "      <td>0.255172</td>\n",
       "      <td>1.000000</td>\n",
       "      <td>0.255172</td>\n",
       "    </tr>\n",
       "    <tr>\n",
       "      <th>1</th>\n",
       "      <td>SVC Without PCA</td>\n",
       "      <td>2.565039</td>\n",
       "      <td>0.001396</td>\n",
       "      <td>0.800493</td>\n",
       "      <td>0.764706</td>\n",
       "      <td>0.984848</td>\n",
       "      <td>0.758621</td>\n",
       "    </tr>\n",
       "  </tbody>\n",
       "</table>\n",
       "</div>"
      ],
      "text/plain": [
       "             Model  Time to Train  Time to Predict   F-score  Precision  \\\n",
       "0  Naive Predictor       0.000000         0.000000  0.299838   0.255172   \n",
       "1  SVC Without PCA       2.565039         0.001396  0.800493   0.764706   \n",
       "\n",
       "     Recall  Accuracy  \n",
       "0  1.000000  0.255172  \n",
       "1  0.984848  0.758621  "
      ]
     },
     "metadata": {},
     "output_type": "display_data"
    },
    {
     "name": "stdout",
     "output_type": "stream",
     "text": [
      "{'C': 1.0, 'break_ties': False, 'cache_size': 200, 'class_weight': None, 'coef0': 0.0, 'decision_function_shape': 'ovo', 'degree': 3, 'gamma': 'scale', 'kernel': 'poly', 'max_iter': -1, 'probability': True, 'random_state': 42, 'shrinking': True, 'tol': 0.001, 'verbose': False}\n"
     ]
    },
    {
     "data": {
      "text/plain": [
       "['./outputs/models/svc_no_pca.joblib']"
      ]
     },
     "execution_count": 12,
     "metadata": {},
     "output_type": "execute_result"
    }
   ],
   "source": [
    "svc_no_pca = SVC(random_state=42)\n",
    "\n",
    "scorer = make_scorer(fbeta_score, beta=0.5, average='micro')\n",
    "parameters = {'kernel': ['linear', 'rbf', 'sigmoid', 'poly'],\n",
    "              'shrinking': [True, False],\n",
    "              'probability': [True, False],\n",
    "              'decision_function_shape': ['ovo', 'ovr']}\n",
    "\n",
    "grid_obj = GridSearchCV(svc_no_pca, parameters, scoring=scorer)\n",
    "\n",
    "results, svc_no_pca = train_predict('SVC Without PCA', grid_obj, x_train, y_train, x_test, y_test)\n",
    "time_df.loc[len(time_df.index)] = results\n",
    "display(time_df.head(10))\n",
    "\n",
    "print(svc_no_pca.get_params())\n",
    "dump(svc_no_pca, './outputs/models/svc_no_pca.joblib')"
   ]
  },
  {
   "cell_type": "markdown",
   "metadata": {},
   "source": [
    "##### K Nearest Neighbors"
   ]
  },
  {
   "cell_type": "code",
   "execution_count": 13,
   "metadata": {},
   "outputs": [
    {
     "data": {
      "text/html": [
       "<div>\n",
       "<style scoped>\n",
       "    .dataframe tbody tr th:only-of-type {\n",
       "        vertical-align: middle;\n",
       "    }\n",
       "\n",
       "    .dataframe tbody tr th {\n",
       "        vertical-align: top;\n",
       "    }\n",
       "\n",
       "    .dataframe thead th {\n",
       "        text-align: right;\n",
       "    }\n",
       "</style>\n",
       "<table border=\"1\" class=\"dataframe\">\n",
       "  <thead>\n",
       "    <tr style=\"text-align: right;\">\n",
       "      <th></th>\n",
       "      <th>Model</th>\n",
       "      <th>Time to Train</th>\n",
       "      <th>Time to Predict</th>\n",
       "      <th>F-score</th>\n",
       "      <th>Precision</th>\n",
       "      <th>Recall</th>\n",
       "      <th>Accuracy</th>\n",
       "    </tr>\n",
       "  </thead>\n",
       "  <tbody>\n",
       "    <tr>\n",
       "      <th>0</th>\n",
       "      <td>Naive Predictor</td>\n",
       "      <td>0.000000</td>\n",
       "      <td>0.000000</td>\n",
       "      <td>0.299838</td>\n",
       "      <td>0.255172</td>\n",
       "      <td>1.000000</td>\n",
       "      <td>0.255172</td>\n",
       "    </tr>\n",
       "    <tr>\n",
       "      <th>1</th>\n",
       "      <td>SVC Without PCA</td>\n",
       "      <td>2.565039</td>\n",
       "      <td>0.001396</td>\n",
       "      <td>0.800493</td>\n",
       "      <td>0.764706</td>\n",
       "      <td>0.984848</td>\n",
       "      <td>0.758621</td>\n",
       "    </tr>\n",
       "    <tr>\n",
       "      <th>2</th>\n",
       "      <td>KNN Without PCA</td>\n",
       "      <td>22.915663</td>\n",
       "      <td>0.012555</td>\n",
       "      <td>0.780423</td>\n",
       "      <td>0.756410</td>\n",
       "      <td>0.893939</td>\n",
       "      <td>0.701149</td>\n",
       "    </tr>\n",
       "  </tbody>\n",
       "</table>\n",
       "</div>"
      ],
      "text/plain": [
       "             Model  Time to Train  Time to Predict   F-score  Precision  \\\n",
       "0  Naive Predictor       0.000000         0.000000  0.299838   0.255172   \n",
       "1  SVC Without PCA       2.565039         0.001396  0.800493   0.764706   \n",
       "2  KNN Without PCA      22.915663         0.012555  0.780423   0.756410   \n",
       "\n",
       "     Recall  Accuracy  \n",
       "0  1.000000  0.255172  \n",
       "1  0.984848  0.758621  \n",
       "2  0.893939  0.701149  "
      ]
     },
     "metadata": {},
     "output_type": "display_data"
    },
    {
     "name": "stdout",
     "output_type": "stream",
     "text": [
      "{'algorithm': 'ball_tree', 'leaf_size': 10, 'metric': 'minkowski', 'metric_params': None, 'n_jobs': -1, 'n_neighbors': 11, 'p': 2, 'weights': 'uniform'}\n"
     ]
    },
    {
     "data": {
      "text/plain": [
       "['./outputs/models/knn_no_pca.joblib']"
      ]
     },
     "execution_count": 13,
     "metadata": {},
     "output_type": "execute_result"
    }
   ],
   "source": [
    "knn_no_pca = KNeighborsClassifier()\n",
    "\n",
    "parameters = {'n_neighbors': [3, 5, 7, 9, 11],\n",
    "              'weights': ['uniform', 'distance'],\n",
    "              'algorithm': ['ball_tree', 'kd_tree', 'brute'],\n",
    "              'leaf_size': [10, 20, 30, 40, 50],\n",
    "              'n_jobs': [-1]}\n",
    "grid_obj = GridSearchCV(knn_no_pca, parameters, scoring=scorer)\n",
    "\n",
    "results, knn_no_pca = train_predict('KNN Without PCA', grid_obj, x_train, y_train, x_test, y_test)\n",
    "time_df.loc[len(time_df.index)] = results\n",
    "display(time_df.head(10))\n",
    "print(knn_no_pca.get_params())\n",
    "dump(knn_no_pca, './outputs/models/knn_no_pca.joblib')"
   ]
  },
  {
   "cell_type": "markdown",
   "metadata": {},
   "source": [
    "##### Random Forest"
   ]
  },
  {
   "cell_type": "code",
   "execution_count": 14,
   "metadata": {},
   "outputs": [
    {
     "data": {
      "text/html": [
       "<div>\n",
       "<style scoped>\n",
       "    .dataframe tbody tr th:only-of-type {\n",
       "        vertical-align: middle;\n",
       "    }\n",
       "\n",
       "    .dataframe tbody tr th {\n",
       "        vertical-align: top;\n",
       "    }\n",
       "\n",
       "    .dataframe thead th {\n",
       "        text-align: right;\n",
       "    }\n",
       "</style>\n",
       "<table border=\"1\" class=\"dataframe\">\n",
       "  <thead>\n",
       "    <tr style=\"text-align: right;\">\n",
       "      <th></th>\n",
       "      <th>Model</th>\n",
       "      <th>Time to Train</th>\n",
       "      <th>Time to Predict</th>\n",
       "      <th>F-score</th>\n",
       "      <th>Precision</th>\n",
       "      <th>Recall</th>\n",
       "      <th>Accuracy</th>\n",
       "    </tr>\n",
       "  </thead>\n",
       "  <tbody>\n",
       "    <tr>\n",
       "      <th>0</th>\n",
       "      <td>Naive Predictor</td>\n",
       "      <td>0.000000</td>\n",
       "      <td>0.000000</td>\n",
       "      <td>0.299838</td>\n",
       "      <td>0.255172</td>\n",
       "      <td>1.000000</td>\n",
       "      <td>0.255172</td>\n",
       "    </tr>\n",
       "    <tr>\n",
       "      <th>1</th>\n",
       "      <td>SVC Without PCA</td>\n",
       "      <td>2.565039</td>\n",
       "      <td>0.001396</td>\n",
       "      <td>0.800493</td>\n",
       "      <td>0.764706</td>\n",
       "      <td>0.984848</td>\n",
       "      <td>0.758621</td>\n",
       "    </tr>\n",
       "    <tr>\n",
       "      <th>2</th>\n",
       "      <td>KNN Without PCA</td>\n",
       "      <td>22.915663</td>\n",
       "      <td>0.012555</td>\n",
       "      <td>0.780423</td>\n",
       "      <td>0.756410</td>\n",
       "      <td>0.893939</td>\n",
       "      <td>0.701149</td>\n",
       "    </tr>\n",
       "    <tr>\n",
       "      <th>3</th>\n",
       "      <td>RFC Without PCA</td>\n",
       "      <td>17.790130</td>\n",
       "      <td>0.005661</td>\n",
       "      <td>0.794872</td>\n",
       "      <td>0.765432</td>\n",
       "      <td>0.939394</td>\n",
       "      <td>0.735632</td>\n",
       "    </tr>\n",
       "  </tbody>\n",
       "</table>\n",
       "</div>"
      ],
      "text/plain": [
       "             Model  Time to Train  Time to Predict   F-score  Precision  \\\n",
       "0  Naive Predictor       0.000000         0.000000  0.299838   0.255172   \n",
       "1  SVC Without PCA       2.565039         0.001396  0.800493   0.764706   \n",
       "2  KNN Without PCA      22.915663         0.012555  0.780423   0.756410   \n",
       "3  RFC Without PCA      17.790130         0.005661  0.794872   0.765432   \n",
       "\n",
       "     Recall  Accuracy  \n",
       "0  1.000000  0.255172  \n",
       "1  0.984848  0.758621  \n",
       "2  0.893939  0.701149  \n",
       "3  0.939394  0.735632  "
      ]
     },
     "metadata": {},
     "output_type": "display_data"
    },
    {
     "name": "stdout",
     "output_type": "stream",
     "text": [
      "{'bootstrap': True, 'ccp_alpha': 0.0, 'class_weight': None, 'criterion': 'gini', 'max_depth': None, 'max_features': 'log2', 'max_leaf_nodes': None, 'max_samples': None, 'min_impurity_decrease': 0.0, 'min_samples_leaf': 1, 'min_samples_split': 2, 'min_weight_fraction_leaf': 0.0, 'n_estimators': 10, 'n_jobs': -1, 'oob_score': False, 'random_state': 42, 'verbose': 0, 'warm_start': False}\n"
     ]
    },
    {
     "data": {
      "text/plain": [
       "['./outputs/models/rfc_no_pca.joblib']"
      ]
     },
     "execution_count": 14,
     "metadata": {},
     "output_type": "execute_result"
    }
   ],
   "source": [
    "rfc_no_pca = RandomForestClassifier(random_state=42)\n",
    "\n",
    "parameters = {'bootstrap': [True, False],\n",
    "              'n_estimators': [10, 25, 50, 75, 100], \n",
    "              'criterion': ['gini', 'entropy', 'log_loss'],\n",
    "              'max_features': ['sqrt', 'log2'],\n",
    "              'n_jobs': [-1]}\n",
    "\n",
    "grid_obj = GridSearchCV(rfc_no_pca, parameters, scoring=scorer)\n",
    "\n",
    "results, rfc_no_pca = train_predict('RFC Without PCA', grid_obj, x_train, y_train, x_test, y_test)\n",
    "time_df.loc[len(time_df.index)] = results\n",
    "display(time_df.head(10))\n",
    "print(rfc_no_pca.get_params())\n",
    "dump(rfc_no_pca, './outputs/models/rfc_no_pca.joblib')"
   ]
  },
  {
   "cell_type": "markdown",
   "metadata": {},
   "source": [
    "#### With PCA\n",
    "##### SVC"
   ]
  },
  {
   "cell_type": "code",
   "execution_count": 15,
   "metadata": {},
   "outputs": [
    {
     "data": {
      "text/plain": [
       "['./outputs/models/pca.joblib']"
      ]
     },
     "execution_count": 15,
     "metadata": {},
     "output_type": "execute_result"
    }
   ],
   "source": [
    "pca = PCA(random_state=42, n_components=100)\n",
    "pca.fit(x_train)\n",
    "x_train_pca = pca.transform(x_train)\n",
    "x_test_pca = pca.transform(x_test)\n",
    "\n",
    "# Export PCA\n",
    "dump(pca, './outputs/models/pca.joblib')"
   ]
  },
  {
   "cell_type": "code",
   "execution_count": 16,
   "metadata": {},
   "outputs": [
    {
     "data": {
      "text/html": [
       "<div>\n",
       "<style scoped>\n",
       "    .dataframe tbody tr th:only-of-type {\n",
       "        vertical-align: middle;\n",
       "    }\n",
       "\n",
       "    .dataframe tbody tr th {\n",
       "        vertical-align: top;\n",
       "    }\n",
       "\n",
       "    .dataframe thead th {\n",
       "        text-align: right;\n",
       "    }\n",
       "</style>\n",
       "<table border=\"1\" class=\"dataframe\">\n",
       "  <thead>\n",
       "    <tr style=\"text-align: right;\">\n",
       "      <th></th>\n",
       "      <th>Model</th>\n",
       "      <th>Time to Train</th>\n",
       "      <th>Time to Predict</th>\n",
       "      <th>F-score</th>\n",
       "      <th>Precision</th>\n",
       "      <th>Recall</th>\n",
       "      <th>Accuracy</th>\n",
       "    </tr>\n",
       "  </thead>\n",
       "  <tbody>\n",
       "    <tr>\n",
       "      <th>0</th>\n",
       "      <td>Naive Predictor</td>\n",
       "      <td>0.000000</td>\n",
       "      <td>0.000000</td>\n",
       "      <td>0.299838</td>\n",
       "      <td>0.255172</td>\n",
       "      <td>1.000000</td>\n",
       "      <td>0.255172</td>\n",
       "    </tr>\n",
       "    <tr>\n",
       "      <th>1</th>\n",
       "      <td>SVC Without PCA</td>\n",
       "      <td>2.565039</td>\n",
       "      <td>0.001396</td>\n",
       "      <td>0.800493</td>\n",
       "      <td>0.764706</td>\n",
       "      <td>0.984848</td>\n",
       "      <td>0.758621</td>\n",
       "    </tr>\n",
       "    <tr>\n",
       "      <th>2</th>\n",
       "      <td>KNN Without PCA</td>\n",
       "      <td>22.915663</td>\n",
       "      <td>0.012555</td>\n",
       "      <td>0.780423</td>\n",
       "      <td>0.756410</td>\n",
       "      <td>0.893939</td>\n",
       "      <td>0.701149</td>\n",
       "    </tr>\n",
       "    <tr>\n",
       "      <th>3</th>\n",
       "      <td>RFC Without PCA</td>\n",
       "      <td>17.790130</td>\n",
       "      <td>0.005661</td>\n",
       "      <td>0.794872</td>\n",
       "      <td>0.765432</td>\n",
       "      <td>0.939394</td>\n",
       "      <td>0.735632</td>\n",
       "    </tr>\n",
       "    <tr>\n",
       "      <th>4</th>\n",
       "      <td>SVC With PCA</td>\n",
       "      <td>1.638264</td>\n",
       "      <td>0.000793</td>\n",
       "      <td>0.792683</td>\n",
       "      <td>0.755814</td>\n",
       "      <td>0.984848</td>\n",
       "      <td>0.747126</td>\n",
       "    </tr>\n",
       "  </tbody>\n",
       "</table>\n",
       "</div>"
      ],
      "text/plain": [
       "             Model  Time to Train  Time to Predict   F-score  Precision  \\\n",
       "0  Naive Predictor       0.000000         0.000000  0.299838   0.255172   \n",
       "1  SVC Without PCA       2.565039         0.001396  0.800493   0.764706   \n",
       "2  KNN Without PCA      22.915663         0.012555  0.780423   0.756410   \n",
       "3  RFC Without PCA      17.790130         0.005661  0.794872   0.765432   \n",
       "4     SVC With PCA       1.638264         0.000793  0.792683   0.755814   \n",
       "\n",
       "     Recall  Accuracy  \n",
       "0  1.000000  0.255172  \n",
       "1  0.984848  0.758621  \n",
       "2  0.893939  0.701149  \n",
       "3  0.939394  0.735632  \n",
       "4  0.984848  0.747126  "
      ]
     },
     "metadata": {},
     "output_type": "display_data"
    },
    {
     "name": "stdout",
     "output_type": "stream",
     "text": [
      "{'C': 1.0, 'break_ties': False, 'cache_size': 200, 'class_weight': None, 'coef0': 0.0, 'decision_function_shape': 'ovo', 'degree': 3, 'gamma': 'scale', 'kernel': 'poly', 'max_iter': -1, 'probability': True, 'random_state': 42, 'shrinking': True, 'tol': 0.001, 'verbose': False}\n"
     ]
    },
    {
     "data": {
      "text/plain": [
       "['./outputs/models/svc_pca.joblib']"
      ]
     },
     "execution_count": 16,
     "metadata": {},
     "output_type": "execute_result"
    }
   ],
   "source": [
    "svc_pca = SVC(random_state=42)\n",
    "\n",
    "parameters = {'kernel': ['linear', 'rbf', 'sigmoid', 'poly'],\n",
    "              'shrinking': [True, False],\n",
    "              'probability': [True, False],\n",
    "              'decision_function_shape': ['ovo', 'ovr']}\n",
    "\n",
    "grid_obj = GridSearchCV(svc_pca, parameters, scoring=scorer)\n",
    "\n",
    "results, svc_pca = train_predict('SVC With PCA', grid_obj, x_train_pca, y_train, x_test_pca, y_test)\n",
    "time_df.loc[len(time_df.index)] = results\n",
    "display(time_df.head(10))\n",
    "\n",
    "print(svc_pca.get_params())\n",
    "dump(svc_pca, './outputs/models/svc_pca.joblib')"
   ]
  },
  {
   "cell_type": "markdown",
   "metadata": {},
   "source": [
    "##### K Nearest Neighbors"
   ]
  },
  {
   "cell_type": "code",
   "execution_count": 17,
   "metadata": {},
   "outputs": [
    {
     "data": {
      "text/html": [
       "<div>\n",
       "<style scoped>\n",
       "    .dataframe tbody tr th:only-of-type {\n",
       "        vertical-align: middle;\n",
       "    }\n",
       "\n",
       "    .dataframe tbody tr th {\n",
       "        vertical-align: top;\n",
       "    }\n",
       "\n",
       "    .dataframe thead th {\n",
       "        text-align: right;\n",
       "    }\n",
       "</style>\n",
       "<table border=\"1\" class=\"dataframe\">\n",
       "  <thead>\n",
       "    <tr style=\"text-align: right;\">\n",
       "      <th></th>\n",
       "      <th>Model</th>\n",
       "      <th>Time to Train</th>\n",
       "      <th>Time to Predict</th>\n",
       "      <th>F-score</th>\n",
       "      <th>Precision</th>\n",
       "      <th>Recall</th>\n",
       "      <th>Accuracy</th>\n",
       "    </tr>\n",
       "  </thead>\n",
       "  <tbody>\n",
       "    <tr>\n",
       "      <th>0</th>\n",
       "      <td>Naive Predictor</td>\n",
       "      <td>0.000000</td>\n",
       "      <td>0.000000</td>\n",
       "      <td>0.299838</td>\n",
       "      <td>0.255172</td>\n",
       "      <td>1.000000</td>\n",
       "      <td>0.255172</td>\n",
       "    </tr>\n",
       "    <tr>\n",
       "      <th>1</th>\n",
       "      <td>SVC Without PCA</td>\n",
       "      <td>2.565039</td>\n",
       "      <td>0.001396</td>\n",
       "      <td>0.800493</td>\n",
       "      <td>0.764706</td>\n",
       "      <td>0.984848</td>\n",
       "      <td>0.758621</td>\n",
       "    </tr>\n",
       "    <tr>\n",
       "      <th>2</th>\n",
       "      <td>KNN Without PCA</td>\n",
       "      <td>22.915663</td>\n",
       "      <td>0.012555</td>\n",
       "      <td>0.780423</td>\n",
       "      <td>0.756410</td>\n",
       "      <td>0.893939</td>\n",
       "      <td>0.701149</td>\n",
       "    </tr>\n",
       "    <tr>\n",
       "      <th>3</th>\n",
       "      <td>RFC Without PCA</td>\n",
       "      <td>17.790130</td>\n",
       "      <td>0.005661</td>\n",
       "      <td>0.794872</td>\n",
       "      <td>0.765432</td>\n",
       "      <td>0.939394</td>\n",
       "      <td>0.735632</td>\n",
       "    </tr>\n",
       "    <tr>\n",
       "      <th>4</th>\n",
       "      <td>SVC With PCA</td>\n",
       "      <td>1.638264</td>\n",
       "      <td>0.000793</td>\n",
       "      <td>0.792683</td>\n",
       "      <td>0.755814</td>\n",
       "      <td>0.984848</td>\n",
       "      <td>0.747126</td>\n",
       "    </tr>\n",
       "    <tr>\n",
       "      <th>5</th>\n",
       "      <td>KNN With PCA</td>\n",
       "      <td>15.834222</td>\n",
       "      <td>0.008380</td>\n",
       "      <td>0.775401</td>\n",
       "      <td>0.753247</td>\n",
       "      <td>0.878788</td>\n",
       "      <td>0.689655</td>\n",
       "    </tr>\n",
       "  </tbody>\n",
       "</table>\n",
       "</div>"
      ],
      "text/plain": [
       "             Model  Time to Train  Time to Predict   F-score  Precision  \\\n",
       "0  Naive Predictor       0.000000         0.000000  0.299838   0.255172   \n",
       "1  SVC Without PCA       2.565039         0.001396  0.800493   0.764706   \n",
       "2  KNN Without PCA      22.915663         0.012555  0.780423   0.756410   \n",
       "3  RFC Without PCA      17.790130         0.005661  0.794872   0.765432   \n",
       "4     SVC With PCA       1.638264         0.000793  0.792683   0.755814   \n",
       "5     KNN With PCA      15.834222         0.008380  0.775401   0.753247   \n",
       "\n",
       "     Recall  Accuracy  \n",
       "0  1.000000  0.255172  \n",
       "1  0.984848  0.758621  \n",
       "2  0.893939  0.701149  \n",
       "3  0.939394  0.735632  \n",
       "4  0.984848  0.747126  \n",
       "5  0.878788  0.689655  "
      ]
     },
     "metadata": {},
     "output_type": "display_data"
    },
    {
     "name": "stdout",
     "output_type": "stream",
     "text": [
      "{'algorithm': 'ball_tree', 'leaf_size': 10, 'metric': 'minkowski', 'metric_params': None, 'n_jobs': -1, 'n_neighbors': 5, 'p': 2, 'weights': 'distance'}\n"
     ]
    },
    {
     "data": {
      "text/plain": [
       "['./outputs/models/knn_pca.joblib']"
      ]
     },
     "execution_count": 17,
     "metadata": {},
     "output_type": "execute_result"
    }
   ],
   "source": [
    "knn_pca = KNeighborsClassifier()\n",
    "\n",
    "parameters = {'n_neighbors': [3, 5, 7, 9, 11],\n",
    "              'weights': ['uniform', 'distance'],\n",
    "              'algorithm': ['ball_tree', 'kd_tree', 'brute'],\n",
    "              'leaf_size': [10, 20, 30, 40, 50],\n",
    "              'n_jobs': [-1]}\n",
    "grid_obj = GridSearchCV(knn_pca, parameters, scoring=scorer)\n",
    "\n",
    "results, knn_no_pca = train_predict('KNN With PCA', grid_obj, x_train_pca, y_train, x_test_pca, y_test)\n",
    "time_df.loc[len(time_df.index)] = results\n",
    "display(time_df.head(10))\n",
    "print(knn_no_pca.get_params())\n",
    "dump(knn_no_pca, './outputs/models/knn_pca.joblib')"
   ]
  },
  {
   "cell_type": "markdown",
   "metadata": {},
   "source": [
    "##### Random Forest"
   ]
  },
  {
   "cell_type": "code",
   "execution_count": 18,
   "metadata": {},
   "outputs": [
    {
     "data": {
      "text/html": [
       "<div>\n",
       "<style scoped>\n",
       "    .dataframe tbody tr th:only-of-type {\n",
       "        vertical-align: middle;\n",
       "    }\n",
       "\n",
       "    .dataframe tbody tr th {\n",
       "        vertical-align: top;\n",
       "    }\n",
       "\n",
       "    .dataframe thead th {\n",
       "        text-align: right;\n",
       "    }\n",
       "</style>\n",
       "<table border=\"1\" class=\"dataframe\">\n",
       "  <thead>\n",
       "    <tr style=\"text-align: right;\">\n",
       "      <th></th>\n",
       "      <th>Model</th>\n",
       "      <th>Time to Train</th>\n",
       "      <th>Time to Predict</th>\n",
       "      <th>F-score</th>\n",
       "      <th>Precision</th>\n",
       "      <th>Recall</th>\n",
       "      <th>Accuracy</th>\n",
       "    </tr>\n",
       "  </thead>\n",
       "  <tbody>\n",
       "    <tr>\n",
       "      <th>0</th>\n",
       "      <td>Naive Predictor</td>\n",
       "      <td>0.000000</td>\n",
       "      <td>0.000000</td>\n",
       "      <td>0.299838</td>\n",
       "      <td>0.255172</td>\n",
       "      <td>1.000000</td>\n",
       "      <td>0.255172</td>\n",
       "    </tr>\n",
       "    <tr>\n",
       "      <th>1</th>\n",
       "      <td>SVC Without PCA</td>\n",
       "      <td>2.565039</td>\n",
       "      <td>0.001396</td>\n",
       "      <td>0.800493</td>\n",
       "      <td>0.764706</td>\n",
       "      <td>0.984848</td>\n",
       "      <td>0.758621</td>\n",
       "    </tr>\n",
       "    <tr>\n",
       "      <th>2</th>\n",
       "      <td>KNN Without PCA</td>\n",
       "      <td>22.915663</td>\n",
       "      <td>0.012555</td>\n",
       "      <td>0.780423</td>\n",
       "      <td>0.756410</td>\n",
       "      <td>0.893939</td>\n",
       "      <td>0.701149</td>\n",
       "    </tr>\n",
       "    <tr>\n",
       "      <th>3</th>\n",
       "      <td>RFC Without PCA</td>\n",
       "      <td>17.790130</td>\n",
       "      <td>0.005661</td>\n",
       "      <td>0.794872</td>\n",
       "      <td>0.765432</td>\n",
       "      <td>0.939394</td>\n",
       "      <td>0.735632</td>\n",
       "    </tr>\n",
       "    <tr>\n",
       "      <th>4</th>\n",
       "      <td>SVC With PCA</td>\n",
       "      <td>1.638264</td>\n",
       "      <td>0.000793</td>\n",
       "      <td>0.792683</td>\n",
       "      <td>0.755814</td>\n",
       "      <td>0.984848</td>\n",
       "      <td>0.747126</td>\n",
       "    </tr>\n",
       "    <tr>\n",
       "      <th>5</th>\n",
       "      <td>KNN With PCA</td>\n",
       "      <td>15.834222</td>\n",
       "      <td>0.008380</td>\n",
       "      <td>0.775401</td>\n",
       "      <td>0.753247</td>\n",
       "      <td>0.878788</td>\n",
       "      <td>0.689655</td>\n",
       "    </tr>\n",
       "    <tr>\n",
       "      <th>6</th>\n",
       "      <td>RFC With PCA</td>\n",
       "      <td>17.054143</td>\n",
       "      <td>0.016245</td>\n",
       "      <td>0.770270</td>\n",
       "      <td>0.750000</td>\n",
       "      <td>0.863636</td>\n",
       "      <td>0.678161</td>\n",
       "    </tr>\n",
       "  </tbody>\n",
       "</table>\n",
       "</div>"
      ],
      "text/plain": [
       "             Model  Time to Train  Time to Predict   F-score  Precision  \\\n",
       "0  Naive Predictor       0.000000         0.000000  0.299838   0.255172   \n",
       "1  SVC Without PCA       2.565039         0.001396  0.800493   0.764706   \n",
       "2  KNN Without PCA      22.915663         0.012555  0.780423   0.756410   \n",
       "3  RFC Without PCA      17.790130         0.005661  0.794872   0.765432   \n",
       "4     SVC With PCA       1.638264         0.000793  0.792683   0.755814   \n",
       "5     KNN With PCA      15.834222         0.008380  0.775401   0.753247   \n",
       "6     RFC With PCA      17.054143         0.016245  0.770270   0.750000   \n",
       "\n",
       "     Recall  Accuracy  \n",
       "0  1.000000  0.255172  \n",
       "1  0.984848  0.758621  \n",
       "2  0.893939  0.701149  \n",
       "3  0.939394  0.735632  \n",
       "4  0.984848  0.747126  \n",
       "5  0.878788  0.689655  \n",
       "6  0.863636  0.678161  "
      ]
     },
     "metadata": {},
     "output_type": "display_data"
    },
    {
     "name": "stdout",
     "output_type": "stream",
     "text": [
      "{'bootstrap': False, 'ccp_alpha': 0.0, 'class_weight': None, 'criterion': 'entropy', 'max_depth': None, 'max_features': 'sqrt', 'max_leaf_nodes': None, 'max_samples': None, 'min_impurity_decrease': 0.0, 'min_samples_leaf': 1, 'min_samples_split': 2, 'min_weight_fraction_leaf': 0.0, 'n_estimators': 75, 'n_jobs': -1, 'oob_score': False, 'random_state': 42, 'verbose': 0, 'warm_start': False}\n"
     ]
    },
    {
     "data": {
      "text/plain": [
       "['./outputs/models/rfc_pca.joblib']"
      ]
     },
     "execution_count": 18,
     "metadata": {},
     "output_type": "execute_result"
    }
   ],
   "source": [
    "rfc_pca = RandomForestClassifier(random_state=42)\n",
    "\n",
    "parameters = {'bootstrap': [True, False],\n",
    "              'n_estimators': [10, 25, 50, 75, 100], \n",
    "              'criterion': ['gini', 'entropy', 'log_loss'],\n",
    "              'max_features': ['sqrt', 'log2'],\n",
    "              'n_jobs': [-1]}\n",
    "\n",
    "grid_obj = GridSearchCV(rfc_pca, parameters, scoring=scorer)\n",
    "\n",
    "results, rfc_pca = train_predict('RFC With PCA', grid_obj, x_train_pca, y_train, x_test_pca, y_test)\n",
    "time_df.loc[len(time_df.index)] = results\n",
    "display(time_df.head(10))\n",
    "print(rfc_pca.get_params())\n",
    "dump(rfc_pca, './outputs/models/rfc_pca.joblib')"
   ]
  },
  {
   "cell_type": "code",
   "execution_count": 19,
   "metadata": {},
   "outputs": [],
   "source": [
    "# save results to csv\n",
    "time_df.to_csv('./outputs/data/model-performance.csv')"
   ]
  },
  {
   "cell_type": "markdown",
   "metadata": {},
   "source": [
    "### Compare Models Performance"
   ]
  },
  {
   "cell_type": "code",
   "execution_count": 20,
   "metadata": {},
   "outputs": [
    {
     "data": {
      "image/png": "[encoded data removed]",
      "text/plain": [
       "<Figure size 1400x700 with 1 Axes>"
      ]
     },
     "metadata": {},
     "output_type": "display_data"
    }
   ],
   "source": [
    "plt.figure(figsize=(14,7))\n",
    "plt.title('Model Performance')\n",
    "plt.ylabel('Score')\n",
    "plt.xlabel('Model')\n",
    "plt.ylim((0,0.85))\n",
    "plt.axhline(y=0.8, color='r', linestyle='dotted', label='Target F-score')\n",
    "plt.axhline(y=time_df.iloc[0]['F-score'], color='b', linestyle='dotted', label='Naive Predictor F-score')\n",
    "plt.legend()\n",
    "\n",
    "# Use FuncFormatter to apply a lambda to the y-values\n",
    "formatter = ticker.FuncFormatter(lambda y, pos: f'{round(y * 100, 0)}%')\n",
    "plt.gca().yaxis.set_major_formatter(formatter)\n",
    "\n",
    "time_df.iloc[range(1,len(time_df.index))].sort_values('F-score', ascending= False).plot.bar(x='Model', y=['F-score', 'Precision', 'Accuracy'], ax=plt.gca());\n"
   ]
  },
  {
   "cell_type": "code",
   "execution_count": 21,
   "metadata": {},
   "outputs": [
    {
     "data": {
      "image/png": "[encoded data removed]",
      "text/plain": [
       "<Figure size 1400x700 with 1 Axes>"
      ]
     },
     "metadata": {},
     "output_type": "display_data"
    }
   ],
   "source": [
    "plt.figure(figsize=(14,7))\n",
    "plt.title('Model Training Time')\n",
    "plt.ylabel('Time (seconds)')\n",
    "plt.xlabel('Model')\n",
    "\n",
    "time_df.iloc[range(1,len(time_df.index))].sort_values('Time to Train', ascending= True).plot.bar(x='Model', y='Time to Train', ax=plt.gca());"
   ]
  },
  {
   "cell_type": "code",
   "execution_count": 22,
   "metadata": {},
   "outputs": [
    {
     "data": {
      "image/png": "[encoded data removed]",
      "text/plain": [
       "<Figure size 1400x700 with 1 Axes>"
      ]
     },
     "metadata": {},
     "output_type": "display_data"
    }
   ],
   "source": [
    "plt.figure(figsize=(14,7))\n",
    "plt.title('Model Prediction Time')\n",
    "plt.ylabel('Time (milliseconds)')\n",
    "plt.xlabel('Model')\n",
    "plt.ylim((0,0.02))\n",
    "\n",
    "# Use FuncFormatter to apply a lambda to the y-values\n",
    "formatter = ticker.FuncFormatter(lambda y, pos: f'{y * 1000}')\n",
    "plt.gca().yaxis.set_major_formatter(formatter)\n",
    "\n",
    "time_df.iloc[range(1,len(time_df.index))].sort_values('Time to Predict', ascending= True).plot.bar(x='Model', y='Time to Predict', ax=plt.gca());"
   ]
  }
 ],
 "metadata": {
  "kernelspec": {
   "display_name": "Capstone",
   "language": "python",
   "name": "python3"
  },
  "language_info": {
   "codemirror_mode": {
    "name": "ipython",
    "version": 3
   },
   "file_extension": ".py",
   "mimetype": "text/x-python",
   "name": "python",
   "nbconvert_exporter": "python",
   "pygments_lexer": "ipython3",
   "version": "3.11.5"
  }
 },
 "nbformat": 4,
 "nbformat_minor": 2
}
